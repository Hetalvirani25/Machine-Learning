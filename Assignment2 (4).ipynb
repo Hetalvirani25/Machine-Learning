{
  "cells": [
    {
      "cell_type": "markdown",
      "id": "8adddf19",
      "metadata": {
        "id": "8adddf19"
      },
      "source": [
        "# Lab1 - Scikit-learn\n",
        "Author: *YOUR NAME*\n",
        "\n",
        "#### Due Date: Sunday, February 12 at 11:59pm\n",
        "\n",
        "#### To submit: Google Colab link for the completed code file\n",
        "\n",
        "## 1. Introduction\n",
        "\n",
        "The goal of this lab is to become more familiar with the scikit-learn library\n",
        "\n",
        "You will practice loading example datasets, perform classification and regression with linear scikit-learn models, and investigate the effects of reducing the number of features (columns in X) and the number of samples (rows in X and y)"
      ]
    },
    {
      "cell_type": "code",
      "execution_count": 1,
      "id": "567659e0",
      "metadata": {
        "id": "567659e0"
      },
      "outputs": [],
      "source": [
        "import numpy as np\n",
        "import pandas as pd\n",
        "import matplotlib.pyplot as plt\n",
        "import seaborn as sns"
      ]
    },
    {
      "cell_type": "code",
      "source": [
        "!pip install mglearn\n",
        "!pip install utils"
      ],
      "metadata": {
        "colab": {
          "base_uri": "https://localhost:8080/"
        },
        "id": "KlTUZQKQO4Ly",
        "outputId": "5ca2b608-6f6a-488f-ede1-66ce4024b217"
      },
      "id": "KlTUZQKQO4Ly",
      "execution_count": 2,
      "outputs": [
        {
          "output_type": "stream",
          "name": "stdout",
          "text": [
            "Looking in indexes: https://pypi.org/simple, https://us-python.pkg.dev/colab-wheels/public/simple/\n",
            "Collecting mglearn\n",
            "  Downloading mglearn-0.1.9.tar.gz (540 kB)\n",
            "\u001b[2K     \u001b[90m━━━━━━━━━━━━━━━━━━━━━━━━━━━━━━━━━━━━━━\u001b[0m \u001b[32m540.1/540.1 KB\u001b[0m \u001b[31m10.8 MB/s\u001b[0m eta \u001b[36m0:00:00\u001b[0m\n",
            "\u001b[?25h  Preparing metadata (setup.py) ... \u001b[?25l\u001b[?25hdone\n",
            "Requirement already satisfied: numpy in /usr/local/lib/python3.8/dist-packages (from mglearn) (1.21.6)\n",
            "Requirement already satisfied: matplotlib in /usr/local/lib/python3.8/dist-packages (from mglearn) (3.2.2)\n",
            "Requirement already satisfied: scikit-learn in /usr/local/lib/python3.8/dist-packages (from mglearn) (1.0.2)\n",
            "Requirement already satisfied: pandas in /usr/local/lib/python3.8/dist-packages (from mglearn) (1.3.5)\n",
            "Requirement already satisfied: pillow in /usr/local/lib/python3.8/dist-packages (from mglearn) (7.1.2)\n",
            "Requirement already satisfied: cycler in /usr/local/lib/python3.8/dist-packages (from mglearn) (0.11.0)\n",
            "Requirement already satisfied: imageio in /usr/local/lib/python3.8/dist-packages (from mglearn) (2.9.0)\n",
            "Requirement already satisfied: joblib in /usr/local/lib/python3.8/dist-packages (from mglearn) (1.2.0)\n",
            "Requirement already satisfied: python-dateutil>=2.1 in /usr/local/lib/python3.8/dist-packages (from matplotlib->mglearn) (2.8.2)\n",
            "Requirement already satisfied: pyparsing!=2.0.4,!=2.1.2,!=2.1.6,>=2.0.1 in /usr/local/lib/python3.8/dist-packages (from matplotlib->mglearn) (3.0.9)\n",
            "Requirement already satisfied: kiwisolver>=1.0.1 in /usr/local/lib/python3.8/dist-packages (from matplotlib->mglearn) (1.4.4)\n",
            "Requirement already satisfied: pytz>=2017.3 in /usr/local/lib/python3.8/dist-packages (from pandas->mglearn) (2022.7.1)\n",
            "Requirement already satisfied: scipy>=1.1.0 in /usr/local/lib/python3.8/dist-packages (from scikit-learn->mglearn) (1.7.3)\n",
            "Requirement already satisfied: threadpoolctl>=2.0.0 in /usr/local/lib/python3.8/dist-packages (from scikit-learn->mglearn) (3.1.0)\n",
            "Requirement already satisfied: six>=1.5 in /usr/local/lib/python3.8/dist-packages (from python-dateutil>=2.1->matplotlib->mglearn) (1.15.0)\n",
            "Building wheels for collected packages: mglearn\n",
            "  Building wheel for mglearn (setup.py) ... \u001b[?25l\u001b[?25hdone\n",
            "  Created wheel for mglearn: filename=mglearn-0.1.9-py2.py3-none-any.whl size=582637 sha256=ef77adce1398b8eb5778f1933bce0f1e07062f87050c7cf01c6360756d9e2246\n",
            "  Stored in directory: /root/.cache/pip/wheels/87/75/37/404e66d0c4bad150f101c9a0914b11a8eccc2681559936e7f7\n",
            "Successfully built mglearn\n",
            "Installing collected packages: mglearn\n",
            "Successfully installed mglearn-0.1.9\n",
            "Looking in indexes: https://pypi.org/simple, https://us-python.pkg.dev/colab-wheels/public/simple/\n",
            "Collecting utils\n",
            "  Downloading utils-1.0.1-py2.py3-none-any.whl (21 kB)\n",
            "Installing collected packages: utils\n",
            "Successfully installed utils-1.0.1\n"
          ]
        }
      ]
    },
    {
      "cell_type": "code",
      "source": [
        "import utils"
      ],
      "metadata": {
        "id": "JlnDPnMIPXhv"
      },
      "id": "JlnDPnMIPXhv",
      "execution_count": 3,
      "outputs": []
    },
    {
      "cell_type": "code",
      "source": [
        "!pip install --upgrade joblib==1.1.0"
      ],
      "metadata": {
        "colab": {
          "base_uri": "https://localhost:8080/"
        },
        "id": "BlsiclE7knnl",
        "outputId": "b0a77222-6ec3-43d9-cf8f-511a19201f6a"
      },
      "id": "BlsiclE7knnl",
      "execution_count": 4,
      "outputs": [
        {
          "output_type": "stream",
          "name": "stdout",
          "text": [
            "Looking in indexes: https://pypi.org/simple, https://us-python.pkg.dev/colab-wheels/public/simple/\n",
            "Collecting joblib==1.1.0\n",
            "  Downloading joblib-1.1.0-py2.py3-none-any.whl (306 kB)\n",
            "\u001b[2K     \u001b[90m━━━━━━━━━━━━━━━━━━━━━━━━━━━━━━━━━━━━━━━\u001b[0m \u001b[32m307.0/307.0 KB\u001b[0m \u001b[31m6.6 MB/s\u001b[0m eta \u001b[36m0:00:00\u001b[0m\n",
            "\u001b[?25hInstalling collected packages: joblib\n",
            "  Attempting uninstall: joblib\n",
            "    Found existing installation: joblib 1.2.0\n",
            "    Uninstalling joblib-1.2.0:\n",
            "      Successfully uninstalled joblib-1.2.0\n",
            "Successfully installed joblib-1.1.0\n"
          ]
        }
      ]
    },
    {
      "cell_type": "code",
      "source": [
        "import mglearn"
      ],
      "metadata": {
        "id": "qUfY5PVZkwQS"
      },
      "id": "qUfY5PVZkwQS",
      "execution_count": 5,
      "outputs": []
    },
    {
      "cell_type": "code",
      "source": [
        "mglearn.plots.plot_linear_regression_wave()"
      ],
      "metadata": {
        "colab": {
          "base_uri": "https://localhost:8080/",
          "height": 464
        },
        "id": "PouO6fuek06y",
        "outputId": "0f03de6b-fba3-4e52-fc9a-55682ac2e191"
      },
      "id": "PouO6fuek06y",
      "execution_count": 6,
      "outputs": [
        {
          "output_type": "stream",
          "name": "stdout",
          "text": [
            "w[0]: 0.393906  b: -0.031804\n"
          ]
        },
        {
          "output_type": "display_data",
          "data": {
            "text/plain": [
              "<Figure size 576x576 with 1 Axes>"
            ],
            "image/png": "[encoded data removed]"
          },
          "metadata": {
            "needs_background": "light"
          }
        }
      ]
    },
    {
      "cell_type": "code",
      "source": [
        "import warnings\n",
        "warnings.filterwarnings('ignore') "
      ],
      "metadata": {
        "id": "h6NeA5QHk8WD"
      },
      "id": "h6NeA5QHk8WD",
      "execution_count": 7,
      "outputs": []
    },
    {
      "cell_type": "markdown",
      "id": "33905120",
      "metadata": {
        "id": "33905120"
      },
      "source": [
        "## 2. Classification (15 marks total)\n",
        "\n",
        "Using spam dataset - classification  \n",
        "https://archive.ics.uci.edu/ml/datasets/spambase\n",
        "\n",
        "The goal is to investigate `LogisticRegression(max_iter=2000)` and the effects of reducing the number of features and number of samples on classification performance"
      ]
    },
    {
      "cell_type": "markdown",
      "id": "a3f7c65d",
      "metadata": {
        "id": "a3f7c65d"
      },
      "source": [
        "### 2.1 Load data (4 marks)"
      ]
    },
    {
      "cell_type": "markdown",
      "id": "66ae93da",
      "metadata": {
        "id": "66ae93da"
      },
      "source": [
        "#### First step: Check first few lines of data file using !head or !type\n",
        "\n",
        "Hint: Use this to check what the separator (sep) is and if column headers are included"
      ]
    },
    {
      "cell_type": "code",
      "execution_count": 8,
      "id": "45cd5721",
      "metadata": {
        "colab": {
          "base_uri": "https://localhost:8080/"
        },
        "id": "45cd5721",
        "outputId": "b260d211-a701-4708-a8e1-e42755368fed"
      },
      "outputs": [
        {
          "output_type": "stream",
          "name": "stdout",
          "text": [
            "0,0.64,0.64,0,0.32,0,0,0,0,0,0,0.64,0,0,0,0.32,0,1.29,1.93,0,0.96,0,0,0,0,0,0,0,0,0,0,0,0,0,0,0,0,0,0,0,0,0,0,0,0,0,0,0,0,0,0,0.778,0,0,3.756,61,278,1\r\n",
            "0.21,0.28,0.5,0,0.14,0.28,0.21,0.07,0,0.94,0.21,0.79,0.65,0.21,0.14,0.14,0.07,0.28,3.47,0,1.59,0,0.43,0.43,0,0,0,0,0,0,0,0,0,0,0,0,0.07,0,0,0,0,0,0,0,0,0,0,0,0,0.132,0,0.372,0.18,0.048,5.114,101,1028,1\r\n",
            "0.06,0,0.71,0,1.23,0.19,0.19,0.12,0.64,0.25,0.38,0.45,0.12,0,1.75,0.06,0.06,1.03,1.36,0.32,0.51,0,1.16,0.06,0,0,0,0,0,0,0,0,0,0,0,0,0,0,0,0.06,0,0,0.12,0,0.06,0.06,0,0,0.01,0.143,0,0.276,0.184,0.01,9.821,485,2259,1\r\n",
            "0,0,0,0,0.63,0,0.31,0.63,0.31,0.63,0.31,0.31,0.31,0,0,0.31,0,0,3.18,0,0.31,0,0,0,0,0,0,0,0,0,0,0,0,0,0,0,0,0,0,0,0,0,0,0,0,0,0,0,0,0.137,0,0.137,0,0,3.537,40,191,1\r\n",
            "0,0,0,0,0.63,0,0.31,0.63,0.31,0.63,0.31,0.31,0.31,0,0,0.31,0,0,3.18,0,0.31,0,0,0,0,0,0,0,0,0,0,0,0,0,0,0,0,0,0,0,0,0,0,0,0,0,0,0,0,0.135,0,0.135,0,0,3.537,40,191,1\r\n",
            "0,0,0,0,1.85,0,0,1.85,0,0,0,0,0,0,0,0,0,0,0,0,0,0,0,0,0,0,0,0,0,0,0,0,0,0,0,0,0,0,0,0,0,0,0,0,0,0,0,0,0,0.223,0,0,0,0,3,15,54,1\r\n",
            "0,0,0,0,1.92,0,0,0,0,0.64,0.96,1.28,0,0,0,0.96,0,0.32,3.85,0,0.64,0,0,0,0,0,0,0,0,0,0,0,0,0,0,0,0,0,0,0,0,0,0,0,0,0,0,0,0,0.054,0,0.164,0.054,0,1.671,4,112,1\r\n",
            "0,0,0,0,1.88,0,0,1.88,0,0,0,0,0,0,0,0,0,0,0,0,0,0,0,0,0,0,0,0,0,0,0,0,0,0,0,0,0,0,0,0,0,0,0,0,0,0,0,0,0,0.206,0,0,0,0,2.45,11,49,1\r\n",
            "0.15,0,0.46,0,0.61,0,0.3,0,0.92,0.76,0.76,0.92,0,0,0,0,0,0.15,1.23,3.53,2,0,0,0.15,0,0,0,0,0,0,0,0,0.15,0,0,0,0,0,0,0,0,0,0.3,0,0,0,0,0,0,0.271,0,0.181,0.203,0.022,9.744,445,1257,1\r\n",
            "0.06,0.12,0.77,0,0.19,0.32,0.38,0,0.06,0,0,0.64,0.25,0,0.12,0,0,0.12,1.67,0.06,0.71,0,0.19,0,0,0,0,0,0,0,0,0,0,0,0,0,0,0,0,0,0,0,0,0.06,0,0,0,0,0.04,0.03,0,0.244,0.081,0,1.729,43,749,1\r\n"
          ]
        }
      ],
      "source": [
        "# TODO: ADD YOUR CODE HERE (0.5 marks)\n",
        "!head spambase.data"
      ]
    },
    {
      "cell_type": "markdown",
      "id": "5bef80f1",
      "metadata": {
        "id": "5bef80f1"
      },
      "source": [
        "#### Second step: Read in csv file\n",
        "\n",
        "Hint 1: From the previous step, what separator should be used?\n",
        "\n",
        "Hint 2: If there are no column headers, how does this change how we read in the data? \n",
        "\n",
        "Hint 3: If there are no column headers, do not need to define them - can index columns using numerical index"
      ]
    },
    {
      "cell_type": "code",
      "execution_count": 9,
      "id": "1b6870b0",
      "metadata": {
        "colab": {
          "base_uri": "https://localhost:8080/"
        },
        "id": "1b6870b0",
        "outputId": "a697ccd4-face-4c31-9bc5-7d3afc5f7d96"
      },
      "outputs": [
        {
          "output_type": "stream",
          "name": "stdout",
          "text": [
            "        0     1     2    3     4     5     6     7     8     9   ...     48  \\\n",
            "0     0.21  0.28  0.50  0.0  0.14  0.28  0.21  0.07  0.00  0.94  ...  0.000   \n",
            "1     0.06  0.00  0.71  0.0  1.23  0.19  0.19  0.12  0.64  0.25  ...  0.010   \n",
            "2     0.00  0.00  0.00  0.0  0.63  0.00  0.31  0.63  0.31  0.63  ...  0.000   \n",
            "3     0.00  0.00  0.00  0.0  0.63  0.00  0.31  0.63  0.31  0.63  ...  0.000   \n",
            "4     0.00  0.00  0.00  0.0  1.85  0.00  0.00  1.85  0.00  0.00  ...  0.000   \n",
            "...    ...   ...   ...  ...   ...   ...   ...   ...   ...   ...  ...    ...   \n",
            "4595  0.31  0.00  0.62  0.0  0.00  0.31  0.00  0.00  0.00  0.00  ...  0.000   \n",
            "4596  0.00  0.00  0.00  0.0  0.00  0.00  0.00  0.00  0.00  0.00  ...  0.000   \n",
            "4597  0.30  0.00  0.30  0.0  0.00  0.00  0.00  0.00  0.00  0.00  ...  0.102   \n",
            "4598  0.96  0.00  0.00  0.0  0.32  0.00  0.00  0.00  0.00  0.00  ...  0.000   \n",
            "4599  0.00  0.00  0.65  0.0  0.00  0.00  0.00  0.00  0.00  0.00  ...  0.000   \n",
            "\n",
            "         49   50     51     52     53     54   55    56  57  \n",
            "0     0.132  0.0  0.372  0.180  0.048  5.114  101  1028   1  \n",
            "1     0.143  0.0  0.276  0.184  0.010  9.821  485  2259   1  \n",
            "2     0.137  0.0  0.137  0.000  0.000  3.537   40   191   1  \n",
            "3     0.135  0.0  0.135  0.000  0.000  3.537   40   191   1  \n",
            "4     0.223  0.0  0.000  0.000  0.000  3.000   15    54   1  \n",
            "...     ...  ...    ...    ...    ...    ...  ...   ...  ..  \n",
            "4595  0.232  0.0  0.000  0.000  0.000  1.142    3    88   0  \n",
            "4596  0.000  0.0  0.353  0.000  0.000  1.555    4    14   0  \n",
            "4597  0.718  0.0  0.000  0.000  0.000  1.404    6   118   0  \n",
            "4598  0.057  0.0  0.000  0.000  0.000  1.147    5    78   0  \n",
            "4599  0.000  0.0  0.125  0.000  0.000  1.250    5    40   0  \n",
            "\n",
            "[4600 rows x 58 columns]\n"
          ]
        }
      ],
      "source": [
        "# TODO: ADD YOUR CODE HERE (1 mark)\n",
        "data = pd.read_csv('spambase.data',na_values='?')\n",
        "df=pd.DataFrame(data)\n",
        "\n",
        "df.columns=[i for i in range(58)]\n",
        "print(df)"
      ]
    },
    {
      "cell_type": "markdown",
      "id": "7fb17ee6",
      "metadata": {
        "id": "7fb17ee6"
      },
      "source": [
        "#### Third step: Find any null values and use a reasonable method to deal with them"
      ]
    },
    {
      "cell_type": "code",
      "execution_count": 10,
      "id": "08768db6",
      "metadata": {
        "colab": {
          "base_uri": "https://localhost:8080/"
        },
        "id": "08768db6",
        "outputId": "99c280ef-0cd5-4d33-fe12-cdca643a06af"
      },
      "outputs": [
        {
          "output_type": "execute_result",
          "data": {
            "text/plain": [
              "0     0\n",
              "1     0\n",
              "2     0\n",
              "3     0\n",
              "4     0\n",
              "5     0\n",
              "6     0\n",
              "7     0\n",
              "8     0\n",
              "9     0\n",
              "10    0\n",
              "11    0\n",
              "12    0\n",
              "13    0\n",
              "14    0\n",
              "15    0\n",
              "16    0\n",
              "17    0\n",
              "18    0\n",
              "19    0\n",
              "20    0\n",
              "21    0\n",
              "22    0\n",
              "23    0\n",
              "24    0\n",
              "25    0\n",
              "26    0\n",
              "27    0\n",
              "28    0\n",
              "29    0\n",
              "30    0\n",
              "31    0\n",
              "32    0\n",
              "33    0\n",
              "34    0\n",
              "35    0\n",
              "36    0\n",
              "37    0\n",
              "38    0\n",
              "39    0\n",
              "40    0\n",
              "41    0\n",
              "42    0\n",
              "43    0\n",
              "44    0\n",
              "45    0\n",
              "46    0\n",
              "47    0\n",
              "48    0\n",
              "49    0\n",
              "50    0\n",
              "51    0\n",
              "52    0\n",
              "53    0\n",
              "54    0\n",
              "55    0\n",
              "56    0\n",
              "57    0\n",
              "dtype: int64"
            ]
          },
          "metadata": {},
          "execution_count": 10
        }
      ],
      "source": [
        "# TODO: ADD YOUR CODE HERE (0.5 marks)\n",
        "df.dtypes\n",
        "df.isnull().sum()"
      ]
    },
    {
      "cell_type": "markdown",
      "id": "24b9cfa0",
      "metadata": {
        "id": "24b9cfa0"
      },
      "source": [
        "#### Fourth step: Split dataset into feature matrix `X` and target vector `y`\n",
        "Print dimensions and type of `X` and `y`"
      ]
    },
    {
      "cell_type": "code",
      "execution_count": 11,
      "id": "c613952a",
      "metadata": {
        "colab": {
          "base_uri": "https://localhost:8080/"
        },
        "id": "c613952a",
        "outputId": "16901347-aa39-483b-d4cd-d9fc260e0f2b"
      },
      "outputs": [
        {
          "output_type": "stream",
          "name": "stdout",
          "text": [
            "X-dimension (4600, 49)\n",
            "y-dimension (4600, 9)\n"
          ]
        }
      ],
      "source": [
        "# TODO: ADD YOUR CODE HERE (1 mark)\n",
        "\n",
        "X, y = df.iloc[:,0:49],df.iloc[:,49:59]\n",
        "print(\"X-dimension\",X.shape)\n",
        "# print(X.dtypes)\n",
        "# print('----------------------------------------------')\n",
        "# print('----------------------------------------------')\n",
        "print(\"y-dimension\",y.shape)\n",
        "# print(y.dtypes)"
      ]
    },
    {
      "cell_type": "markdown",
      "id": "e2e185dc",
      "metadata": {
        "id": "e2e185dc"
      },
      "source": [
        "Using the sklearn function `train_test_split()` prepare an additional feature matrix `X_small` and target vector `y_small` that contain only **1%** of the rows. Use `random_state=174`\n",
        "\n",
        "Print dimensions and type of `X_small` and `y_small`"
      ]
    },
    {
      "cell_type": "code",
      "execution_count": 12,
      "id": "874b3248",
      "metadata": {
        "colab": {
          "base_uri": "https://localhost:8080/"
        },
        "id": "874b3248",
        "outputId": "e8c2e2eb-df3b-4706-ac61-1e3d40b37852"
      },
      "outputs": [
        {
          "output_type": "stream",
          "name": "stdout",
          "text": [
            "X-small-dimension (46, 49)\n",
            "y_small-dimension (46, 9)\n"
          ]
        }
      ],
      "source": [
        "# TODO: ADD YOUR CODE HERE (1 mark)\n",
        "\n",
        "from sklearn.model_selection import train_test_split\n",
        "X, y = df.iloc[:,0:49],df.iloc[:,49:59]\n",
        "X_train, X_small, y_train, y_small = train_test_split(X, y, test_size=0.01, random_state=174)\n",
        "\n",
        "print(\"X-small-dimension\",X_small.shape)\n",
        "# print(X_small.dtypes)\n",
        "print(\"y_small-dimension\",y_small.shape)\n",
        "# print(y_small.dtypes)"
      ]
    },
    {
      "cell_type": "markdown",
      "id": "f5b229fb",
      "metadata": {
        "id": "f5b229fb"
      },
      "source": [
        "### 2.2 Implement accuracy function (3 marks)"
      ]
    },
    {
      "cell_type": "code",
      "execution_count": 13,
      "id": "6688a036",
      "metadata": {
        "colab": {
          "base_uri": "https://localhost:8080/"
        },
        "id": "6688a036",
        "outputId": "aa320431-33c4-4ecb-c200-c03bda7f4954"
      },
      "outputs": [
        {
          "output_type": "stream",
          "name": "stdout",
          "text": [
            "train_accuracy 0.9187527448397014\n",
            "validation_accuracy 0.8695652173913043\n"
          ]
        }
      ],
      "source": [
        "from sklearn.metrics import accuracy_score\n",
        "from sklearn.model_selection import train_test_split\n",
        "from sklearn.linear_model import LogisticRegression\n",
        "from sklearn import preprocessing\n",
        "\n",
        "def get_classifier_accuracy(model, X, y):\n",
        "  X_train, X_small, y_train, y_small = train_test_split(X, y,test_size=0.01, random_state=956)\n",
        "  model.fit(X_train,y_train)\n",
        "  y_pred=model.predict(X_small)\n",
        "  validation_accuracy = np.mean(y_pred == y_small)\n",
        "  y_train_pred=model.predict(X_train)\n",
        "  train_accuracy=np.mean(y_train_pred == y_train)\n",
        "  return train_accuracy,validation_accuracy\n",
        "\n",
        "\n",
        " \n",
        "  \n",
        "X, y = df.iloc[:,0:49],df.iloc[:,57]\n",
        "\n",
        "model = LogisticRegression(max_iter=2000)\n",
        "\n",
        "\n",
        "train_accuracy, validation_accuracy = get_classifier_accuracy(model, X,y)\n",
        "\n",
        "print(\"train_accuracy\",train_accuracy)\n",
        "\n",
        "print(\"validation_accuracy\",validation_accuracy)"
      ]
    },
    {
      "cell_type": "markdown",
      "id": "dc1b2814",
      "metadata": {
        "id": "dc1b2814"
      },
      "source": [
        "### 2.3 Train and evaluate models (5 marks)\n",
        "\n",
        "1. Import `LogisticRegression` from sklearn\n",
        "2. Instantiate model `LogisticRegression(max_iter=2000)`.\n",
        "3. Create a pandas DataFrame `results` with columns: Data size, training accuracy, validation accuracy\n",
        "4. Call your accuracy function `get_classifier_accuracy()` using \n",
        "    - `X` and `y`\n",
        "    - Only first two columns of `X` and `y`\n",
        "    - `X_small` and `y_small`\n",
        "5. Add the data size, training and validation accuracy for each call to the `results` DataFrame\n",
        "6. Print `results`"
      ]
    },
    {
      "cell_type": "code",
      "execution_count": 15,
      "id": "68331fe9",
      "metadata": {
        "colab": {
          "base_uri": "https://localhost:8080/"
        },
        "id": "68331fe9",
        "outputId": "e18d5590-928b-47ed-eb1e-a0fe1a0c6098"
      },
      "outputs": [
        {
          "output_type": "stream",
          "name": "stdout",
          "text": [
            "   Data size  Training accuracy  Validation accuracy\n",
            "0     4600.0           0.916776             0.891304\n",
            "1     4600.0           0.635266             0.673913\n",
            "2       46.0           0.933333             0.673913\n"
          ]
        }
      ],
      "source": [
        "# TODO: ADD YOUR CODE HERE\n",
        "\n",
        "from sklearn.metrics import accuracy_score\n",
        "from sklearn.model_selection import train_test_split\n",
        "from sklearn.linear_model import LogisticRegression\n",
        "from sklearn import preprocessing\n",
        "\n",
        "def get_classifier_accuracy(model, X, y):\n",
        "  X_train, X_small, y_train, y_small = train_test_split(X, y,test_size=0.01, random_state=956)\n",
        "  model.fit(X,y)\n",
        "  y_pred=model.predict(X_small)\n",
        "  validation_accuracy=np.mean(y_pred == y_small)\n",
        "  y_train_pred=model.predict(X_train)\n",
        "  train_accuracy=np.mean(y_train_pred == y_train)\n",
        "  return train_accuracy,validation_accuracy\n",
        "\n",
        "results = pd.DataFrame(columns=['Data size', 'Training accuracy', 'Validation accuracy'])\n",
        " \n",
        "  \n",
        "X, y = df.iloc[:,0:49],df.iloc[:,57]\n",
        "\n",
        "model = LogisticRegression(max_iter=2000)\n",
        "\n",
        "data_size=X.shape[0]\n",
        "\n",
        "train_accuracy, val_accuracy = get_classifier_accuracy(model, X,y)\n",
        "\n",
        "\n",
        "results = results.append({'Data size': data_size,\n",
        "                          'Training accuracy': train_accuracy,\n",
        "                          'Validation accuracy': val_accuracy}, ignore_index=True)\n",
        "\n",
        "x_sample=X.iloc[:, :3]\n",
        "\n",
        "data_size=x_sample.shape[0]\n",
        "\n",
        "train_accuracy, val_accuracy = get_classifier_accuracy(model,x_sample, y)\n",
        "\n",
        "\n",
        "results = results.append({'Data size': data_size,\n",
        "                          'Training accuracy': train_accuracy,\n",
        "                          'Validation accuracy': val_accuracy}, ignore_index=True)\n",
        "\n",
        "\n",
        "X_train, X_small, y_train, y_small = train_test_split(X, y,test_size=0.01, random_state=956)\n",
        "\n",
        "data_size=X_small.shape[0]\n",
        "train_accuracy,validation_accuracy = get_classifier_accuracy(model,X_small,y_small)\n",
        "\n",
        "results = results.append({'Data size': data_size,\n",
        "                          'Training accuracy': train_accuracy,\n",
        "                          'Validation accuracy': val_accuracy}, ignore_index=True)\n",
        "\n",
        "   \n",
        "print(results)\n",
        "\n",
        "\n",
        "\n",
        "\n"
      ]
    },
    {
      "cell_type": "markdown",
      "id": "a7b8a83f",
      "metadata": {
        "id": "a7b8a83f"
      },
      "source": [
        "### 2.4 Questions (3 marks)\n",
        "1. What is the validation accuracy using all data? What is the difference between training and validation accuracy?\n",
        "1. How does the validation accuracy and difference between training and validation change when only two columns are used? Provide values.\n",
        "1. How does the validation accuracy and difference between training and validation change when only 1% of the rows are used? Provide values.\n",
        "\n",
        "*YOUR ANSWERS HERE*\n",
        "\n",
        "1) When a model's predictions on a validation dataset are compared to the actual labels in that dataset, the accuracy of the model's predictions is said to be the validation accuracy utilising all data.\n",
        "\n",
        "The training accuracy of a model refers to its accuracy on the training dataset that it saw throughout the training phase, while the validation accuracy of a model refers to its performance on a validation dataset that is not viewed during training.\n",
        "\n",
        "\n",
        "2) Depending on the importance of the columns to the target variable and the complexity of the model, using merely two columns in a dataset may have an impact on the validation accuracy and the difference between training and validation accuracy.\n",
        "\n",
        "Even if the two columns include very essential data, the model might still be able to achieve good validation accuracy with just those two columns.\n",
        "\n",
        "Data volume 460.0 Training effectiveness 0.635266 Validation precision is 0.673913.\n",
        "\n",
        "3) Since fewer data are available for the model's training and verification, it may be less able to make accurate predictions if only 1% of the rows are used.\n",
        "\n",
        "The model will be trained on a skewed sample and will perform poorly on the validation data if the 1% of rows selected are not representative of the entire dataset.\n",
        "\n",
        "Data volume 460.0 Training precision is 0.916776 Validation precision is 0.891304."
      ]
    },
    {
      "cell_type": "markdown",
      "id": "4d8d8810",
      "metadata": {
        "id": "4d8d8810"
      },
      "source": [
        "## 3. Regression (13 marks total)\n",
        "\n",
        "Using energy efficiency dataset - regression  \n",
        "http://archive.ics.uci.edu/ml/datasets/Energy+efficiency\n",
        "\n",
        "The goal is to investigate `LinearRegression()` and the effects of reducing the number of features and number of samples on regression performance"
      ]
    },
    {
      "cell_type": "markdown",
      "id": "03c160bc",
      "metadata": {
        "id": "03c160bc"
      },
      "source": [
        "### 3.1 Load data (2 marks)"
      ]
    },
    {
      "cell_type": "markdown",
      "id": "655c4a7d",
      "metadata": {
        "id": "655c4a7d"
      },
      "source": [
        "In the previous example, we downloaded the dataset from the UCI repository and read in the data using pandas\n",
        "\n",
        "Using sci-kit learn, you can access multiple datasets from UCI using the yellowbrick function (https://www.scikit-yb.org/en/latest/index.html)\n",
        "\n",
        "To install yellowbrick, use: `pip install yellowbrick`\n",
        "\n",
        "To access the energy efficiency dataset, visit: https://www.scikit-yb.org/en/latest/api/datasets/energy.html"
      ]
    },
    {
      "cell_type": "markdown",
      "id": "412e6c4d",
      "metadata": {
        "id": "412e6c4d"
      },
      "source": [
        "Using the yellowbrick function `load_energy()`, load the energy dataset into feature matrix `X` and target vector `y`\n",
        "\n",
        "Print dimensions and type of `X` and `y`"
      ]
    },
    {
      "cell_type": "code",
      "source": [
        "!pip install yellowbrick"
      ],
      "metadata": {
        "colab": {
          "base_uri": "https://localhost:8080/"
        },
        "id": "zr9IWUI23UdR",
        "outputId": "bb5af647-3fff-4566-ccd3-3bd7db5bf2ac"
      },
      "id": "zr9IWUI23UdR",
      "execution_count": 16,
      "outputs": [
        {
          "output_type": "stream",
          "name": "stdout",
          "text": [
            "Looking in indexes: https://pypi.org/simple, https://us-python.pkg.dev/colab-wheels/public/simple/\n",
            "Requirement already satisfied: yellowbrick in /usr/local/lib/python3.8/dist-packages (1.5)\n",
            "Requirement already satisfied: cycler>=0.10.0 in /usr/local/lib/python3.8/dist-packages (from yellowbrick) (0.11.0)\n",
            "Requirement already satisfied: scipy>=1.0.0 in /usr/local/lib/python3.8/dist-packages (from yellowbrick) (1.7.3)\n",
            "Requirement already satisfied: scikit-learn>=1.0.0 in /usr/local/lib/python3.8/dist-packages (from yellowbrick) (1.0.2)\n",
            "Requirement already satisfied: numpy>=1.16.0 in /usr/local/lib/python3.8/dist-packages (from yellowbrick) (1.21.6)\n",
            "Requirement already satisfied: matplotlib!=3.0.0,>=2.0.2 in /usr/local/lib/python3.8/dist-packages (from yellowbrick) (3.2.2)\n",
            "Requirement already satisfied: pyparsing!=2.0.4,!=2.1.2,!=2.1.6,>=2.0.1 in /usr/local/lib/python3.8/dist-packages (from matplotlib!=3.0.0,>=2.0.2->yellowbrick) (3.0.9)\n",
            "Requirement already satisfied: python-dateutil>=2.1 in /usr/local/lib/python3.8/dist-packages (from matplotlib!=3.0.0,>=2.0.2->yellowbrick) (2.8.2)\n",
            "Requirement already satisfied: kiwisolver>=1.0.1 in /usr/local/lib/python3.8/dist-packages (from matplotlib!=3.0.0,>=2.0.2->yellowbrick) (1.4.4)\n",
            "Requirement already satisfied: threadpoolctl>=2.0.0 in /usr/local/lib/python3.8/dist-packages (from scikit-learn>=1.0.0->yellowbrick) (3.1.0)\n",
            "Requirement already satisfied: joblib>=0.11 in /usr/local/lib/python3.8/dist-packages (from scikit-learn>=1.0.0->yellowbrick) (1.1.0)\n",
            "Requirement already satisfied: six>=1.5 in /usr/local/lib/python3.8/dist-packages (from python-dateutil>=2.1->matplotlib!=3.0.0,>=2.0.2->yellowbrick) (1.15.0)\n"
          ]
        }
      ]
    },
    {
      "cell_type": "code",
      "execution_count": 17,
      "id": "5bf69314",
      "metadata": {
        "colab": {
          "base_uri": "https://localhost:8080/"
        },
        "id": "5bf69314",
        "outputId": "d91c8e2e-e5df-4cc1-babf-fdd871b87e99"
      },
      "outputs": [
        {
          "output_type": "execute_result",
          "data": {
            "text/plain": [
              "(768, 2)"
            ]
          },
          "metadata": {},
          "execution_count": 17
        }
      ],
      "source": [
        "# TODO: ADD YOUR CODE HERE (1 mark)\n",
        "\n",
        "from yellowbrick.datasets import load_energy\n",
        "from sklearn.ensemble import RandomForestRegressor\n",
        "from sklearn.model_selection import train_test_split\n",
        "df2 = pd.read_excel('ENB2012_data.xlsx')\n",
        "df2.columns=[\"relative compactness\",\"surface area\",\"wall area\",\"roof area\",\"overall height\",\"orientation\",\"glazing area\",\"glazing area distribution\",\"heating load\", \"cooling load\"]\n",
        "\n",
        "features = [\n",
        "   \"relative compactness\",\n",
        "   \"surface area\",\n",
        "   \"wall area\",\n",
        "   \"roof area\",\n",
        "   \"overall height\",\n",
        "   \"orientation\",\n",
        "   \"glazing area\",\n",
        "   \"glazing area distribution\"\n",
        "]\n",
        "target = [\"heating load\", \"cooling load\"]\n",
        "df2 = load_energy(return_dataset=True).to_dataframe()\n",
        "X, y = df2[features], df2[target]\n",
        "\n",
        "X.shape\n",
        "y.shape"
      ]
    },
    {
      "cell_type": "markdown",
      "id": "e55a9601",
      "metadata": {
        "id": "e55a9601"
      },
      "source": [
        "Using the sklearn function `train_test_split()` prepare an additional feature matrix `X_small` and target vector `y_small` that contain only **1%** of the rows. Use `random_state=174`\n",
        "\n",
        "Print dimensions and type of `X_small` and `y_small`"
      ]
    },
    {
      "cell_type": "code",
      "execution_count": 18,
      "id": "5b39f9f0",
      "metadata": {
        "colab": {
          "base_uri": "https://localhost:8080/"
        },
        "id": "5b39f9f0",
        "outputId": "54f2a487-4193-4f3f-ae52-4a9222c7202e"
      },
      "outputs": [
        {
          "output_type": "stream",
          "name": "stdout",
          "text": [
            "(8, 8)\n",
            "relative compactness         float64\n",
            "surface area                 float64\n",
            "wall area                    float64\n",
            "roof area                    float64\n",
            "overall height               float64\n",
            "orientation                    int64\n",
            "glazing area                 float64\n",
            "glazing area distribution      int64\n",
            "dtype: object\n",
            "______________________________\n",
            "(8, 2)\n",
            "heating load    float64\n",
            "cooling load    float64\n",
            "dtype: object\n"
          ]
        }
      ],
      "source": [
        "# TODO: ADD YOUR CODE HERE (1 mark)\n",
        "\n",
        "X_train, X_small, y_train, y_small = train_test_split(X, y, test_size=0.01,random_state=174)\n",
        "\n",
        "print(X_small.shape)\n",
        "print(X_small.dtypes)\n",
        "print('______________________________')\n",
        "print(y_small.shape)\n",
        "\n",
        "print(y_small.dtypes)"
      ]
    },
    {
      "cell_type": "markdown",
      "id": "9243df31",
      "metadata": {
        "id": "9243df31"
      },
      "source": [
        "### 3.2 Implement accuracy function (3 marks)"
      ]
    },
    {
      "cell_type": "code",
      "execution_count": 20,
      "id": "f7364b30",
      "metadata": {
        "colab": {
          "base_uri": "https://localhost:8080/"
        },
        "id": "f7364b30",
        "outputId": "0a6a2e4d-517b-43ba-9123-8f77487a23b8"
      },
      "outputs": [
        {
          "output_type": "stream",
          "name": "stdout",
          "text": [
            "train_mse 9.429085570183652\n",
            "validation_mse 5.897659522510363\n"
          ]
        }
      ],
      "source": [
        "from sklearn.metrics import mean_squared_error\n",
        "from sklearn.model_selection import train_test_split\n",
        "from sklearn.linear_model import LinearRegression\n",
        "def get_regressor_mse(model, X, y):\n",
        "\n",
        "   X_train, X_small, y_train, y_small = train_test_split(X, y,test_size=0.01, random_state=174)\n",
        "   model.fit(X_train,y_train)\n",
        "   y_pred=model.predict(X_small)\n",
        "   valid_mse = mean_squared_error(y_small,y_pred)\n",
        "   y_train_pred=model.predict(X_train)\n",
        "   train_mse=mean_squared_error(y_train,y_train_pred)\n",
        "   return train_mse,valid_mse\n",
        "\n",
        "X, y = df2[features], df2[target]\n",
        "model=LinearRegression()\n",
        "train_mse, valid_mse = get_regressor_mse(model, X,y)\n",
        "\n",
        "print(\"train_mse\",train_mse)\n",
        "print(\"validation_mse\",valid_mse)\n",
        "\n",
        "\n",
        "    #TODO: IMPLEMENT FUNCTION BODY"
      ]
    },
    {
      "cell_type": "markdown",
      "id": "db2cae8a",
      "metadata": {
        "id": "db2cae8a"
      },
      "source": [
        "### 3.3 Train and evaluate models (5 marks)\n",
        "\n",
        "1. Import `LinearRegression` from sklearn\n",
        "2. Instantiate model `LinearRegression()`.\n",
        "3. Create a pandas DataFrame `results` with columns: Data size, training MSE, validation MSE\n",
        "4. Call your accuracy function `get_regressor_mse()` using \n",
        "    - `X` and `y`\n",
        "    - Only first two columns of `X` and `y`\n",
        "    - `X_small` and `y_small`\n",
        "5. Add the data size, training and validation MSE for each call to the `results` DataFrame\n",
        "6. Print `results`"
      ]
    },
    {
      "cell_type": "code",
      "execution_count": 21,
      "id": "c19ac5bd",
      "metadata": {
        "colab": {
          "base_uri": "https://localhost:8080/"
        },
        "id": "c19ac5bd",
        "outputId": "e8d5223d-2ef6-493f-8d2a-e2472369b25b"
      },
      "outputs": [
        {
          "output_type": "stream",
          "name": "stdout",
          "text": [
            "   Data size  Training MSE  Validation MSE\n",
            "0      768.0      0.933333        0.673913\n",
            "1      768.0      0.933333        0.673913\n",
            "2        8.0      0.933333        0.673913\n"
          ]
        }
      ],
      "source": [
        "# TODO: ADD YOUR CODE HERE\n",
        "\n",
        "from sklearn.metrics import accuracy_score\n",
        "from sklearn.model_selection import train_test_split\n",
        "from sklearn.linear_model import LinearRegression\n",
        "from sklearn import preprocessing\n",
        "\n",
        "def get_regressor_mse(model, X, y):\n",
        "\n",
        "   X_train, X_small, y_train, y_small = train_test_split(X, y,test_size=0.01, random_state=174)\n",
        "   model.fit(X_train,y_train)\n",
        "   y_pred=model.predict(X_small)\n",
        "   valid_mse = mean_squared_error(y_small,y_pred)\n",
        "   y_train_pred=model.predict(X_train)\n",
        "   train_mse=mean_squared_error(y_train,y_train_pred)\n",
        "   return train_mse,valid_mse\n",
        "\n",
        "results = pd.DataFrame(columns=['Data size', 'Training MSE', 'Validation MSE'])\n",
        " \n",
        "  \n",
        "X, y = df2[features], df2[target]\n",
        "\n",
        "model = LinearRegression()\n",
        "\n",
        "data_size=X.shape[0]\n",
        "\n",
        "train_mse, valid_mse = get_regressor_mse(model, X,y)\n",
        "\n",
        "results = results.append({'Data size': data_size,\n",
        "                          'Training MSE': train_accuracy,\n",
        "                          'Validation MSE': val_accuracy}, ignore_index=True)\n",
        "\n",
        "x_sample=X.iloc[:, :3]\n",
        "\n",
        "data_size=x_sample.shape[0]\n",
        "\n",
        "train_mse, valid_mse = get_regressor_mse(model, x_sample,y)\n",
        "\n",
        "\n",
        "results = results.append({'Data size': data_size,\n",
        "                          'Training MSE': train_accuracy,\n",
        "                          'Validation MSE': val_accuracy}, ignore_index=True)\n",
        "\n",
        "data_size=X_small.shape[0]\n",
        "train_mse, valid_mse = get_regressor_mse(model, X_small,y_small)\n",
        "\n",
        "results = results.append({'Data size': data_size,\n",
        "                          'Training MSE': train_accuracy,\n",
        "                          'Validation MSE': val_accuracy}, ignore_index=True)\n",
        "\n",
        "\n",
        "print(results)\n"
      ]
    },
    {
      "cell_type": "markdown",
      "id": "ab7e995e",
      "metadata": {
        "id": "ab7e995e"
      },
      "source": [
        "### 3.4 Questions (3 marks)\n",
        "1. What is the validation MSE using all data? What is the difference between training and validation MSE?\n",
        "1. How does the validation MSE and difference between training and validation change when only two columns are used? Provide values.\n",
        "1. How does the validation MSE and difference between training and validation change when only 1% of the rows are used? Provide values.\n",
        "\n",
        "*YOUR ANSWERS HERE*\n",
        "\n",
        "1) The average squared difference between the model's predicted values and the actual values in the validation dataset is referred to as the validation Mean Squared Error (MSE) using all data. The MSE calculates how inaccurately the model's forecasts are, on average.\n",
        "\n",
        "The average squared difference between the model's predicted values and the actual values in the training dataset that were noticed during training is known as the training MSE. The validation MSE, which the model did not experience during training, is the average squared difference between the predicted values and the actual values in the validation dataset.\n",
        "\n",
        "2) The model might only have a low validation MSE if the two columns include highly pertinent data. But if the two columns don't have enough data to accurately forecast the goal variable, the model may provide a high validation MSE.\n",
        "\n",
        "3) The amount of data available for the model's training and verification decreases when only 1% of the rows are used, which may have an impact on the model's ability to make accurate predictions.\n",
        "\n",
        "The model will be trained on a skewed sample and will perform poorly on the validation data if the 1% of rows selected are not representative of the entire dataset.\n",
        "\n",
        "Validation mse 5.897659522510363, Train mse 9.429085570183652"
      ]
    },
    {
      "cell_type": "markdown",
      "id": "29cc84c9",
      "metadata": {
        "id": "29cc84c9"
      },
      "source": [
        "## 4. Observations/Interpretation (3 marks)\n",
        "\n",
        "Describe any patterns you see in the results. Relate your findings to what we discussed during lectures. Include data to justify your findings.\n",
        "\n",
        "\n",
        "*ADD YOUR FINDINGS HERE*\n",
        "\n",
        "Using reduced feature data and its effects\n",
        "\n",
        "If we restrict the feature space from which the model may learn, this may affect how well the predictions on validation data turn out.\n",
        "\n",
        "The model may overfit the training data if the chosen data is highly associated with the target variable and perform badly on the validation data.\n",
        "\n",
        "Underfitting: The model underfits the training data and performs badly on both the training and validation data if the chosen data is insufficient to predict the target variable."
      ]
    },
    {
      "cell_type": "markdown",
      "id": "a16b7bbd",
      "metadata": {
        "id": "a16b7bbd"
      },
      "source": [
        "## 5. Reflection (2 marks)\n",
        "Include a sentence or two about:\n",
        "- what you liked or disliked,\n",
        "- found interesting, confusing, challangeing, motivating\n",
        "while working on this assignment.\n",
        "\n",
        "\n",
        "*ADD YOUR THOUGHTS HERE*\n",
        "\n",
        "Class notes are very helpful in completing this assignment because it provides a deeper understanding of logistic and linear regression models. \n",
        "\n",
        "I learned more practical information about how to train and evaluate the model, how smaller data affect training and validation accuracy, and how to split a dataset into a feature and a target vector how to determine the model's correctness how to determine MSE which models suit the various data sets the best."
      ]
    }
  ],
  "metadata": {
    "kernelspec": {
      "display_name": "Python 3 (ipykernel)",
      "language": "python",
      "name": "python3"
    },
    "language_info": {
      "codemirror_mode": {
        "name": "ipython",
        "version": 3
      },
      "file_extension": ".py",
      "mimetype": "text/x-python",
      "name": "python",
      "nbconvert_exporter": "python",
      "pygments_lexer": "ipython3",
      "version": "3.9.13"
    },
    "colab": {
      "provenance": []
    }
  },
  "nbformat": 4,
  "nbformat_minor": 5
}
{
  "cells": [
    {
      "cell_type": "markdown",
      "id": "73a27a40",
      "metadata": {
        "id": "73a27a40"
      },
      "source": [
        "# Assignment 3 - Part 1: Regression and ColumnTransformer (20 marks)\n",
        "### Due Date: Monday, March 6 at 11:59pm\n",
        "\n",
        "Author: *Hetalben Virani*"
      ]
    },
    {
      "cell_type": "markdown",
      "id": "3d35de6e",
      "metadata": {
        "id": "3d35de6e"
      },
      "source": [
        "The purpose of the first part of the assignment is to practice using `ColumnTransformer` to encode or scale different parts of the data and the impact of different scalar models on different regression algorithms"
      ]
    },
    {
      "cell_type": "code",
      "execution_count": 1,
      "id": "e14ea4b6",
      "metadata": {
        "id": "e14ea4b6"
      },
      "outputs": [],
      "source": [
        "import pandas as pd\n",
        "import numpy as np"
      ]
    },
    {
      "cell_type": "markdown",
      "id": "3e677768",
      "metadata": {
        "id": "3e677768"
      },
      "source": [
        "## Step 1: Import data (3 marks)\n",
        "\n",
        "For this assignment, we are using the **auto-mpg dataset** from Assignment 1\n",
        "\n",
        "Fill in the two code blocks below to import the data and clean it"
      ]
    },
    {
      "cell_type": "code",
      "execution_count": 2,
      "id": "4307c41d",
      "metadata": {
        "colab": {
          "base_uri": "https://localhost:8080/",
          "height": 423
        },
        "id": "4307c41d",
        "outputId": "b04c0054-6aaf-48e3-d10e-dfba281719a3"
      },
      "outputs": [
        {
          "output_type": "execute_result",
          "data": {
            "text/plain": [
              "      MPG  Cylinders  Displacement  Horsepower  Weight  Acceleration  \\\n",
              "0    18.0          8         307.0       130.0  3504.0          12.0   \n",
              "1    15.0          8         350.0       165.0  3693.0          11.5   \n",
              "2    18.0          8         318.0       150.0  3436.0          11.0   \n",
              "3    16.0          8         304.0       150.0  3433.0          12.0   \n",
              "4    17.0          8         302.0       140.0  3449.0          10.5   \n",
              "..    ...        ...           ...         ...     ...           ...   \n",
              "393  27.0          4         140.0        86.0  2790.0          15.6   \n",
              "394  44.0          4          97.0        52.0  2130.0          24.6   \n",
              "395  32.0          4         135.0        84.0  2295.0          11.6   \n",
              "396  28.0          4         120.0        79.0  2625.0          18.6   \n",
              "397  31.0          4         119.0        82.0  2720.0          19.4   \n",
              "\n",
              "     Model Year  Origin                   car_name  \n",
              "0            70       1  chevrolet chevelle malibu  \n",
              "1            70       1          buick skylark 320  \n",
              "2            70       1         plymouth satellite  \n",
              "3            70       1              amc rebel sst  \n",
              "4            70       1                ford torino  \n",
              "..          ...     ...                        ...  \n",
              "393          82       1            ford mustang gl  \n",
              "394          82       2                  vw pickup  \n",
              "395          82       1              dodge rampage  \n",
              "396          82       1                ford ranger  \n",
              "397          82       1                 chevy s-10  \n",
              "\n",
              "[398 rows x 9 columns]"
            ],
            "text/html": [
              "\n",
              "  <div id=\"df-c4d45e77-3103-4e22-84da-8192d9db652e\">\n",
              "    <div class=\"colab-df-container\">\n",
              "      <div>\n",
              "<style scoped>\n",
              "    .dataframe tbody tr th:only-of-type {\n",
              "        vertical-align: middle;\n",
              "    }\n",
              "\n",
              "    .dataframe tbody tr th {\n",
              "        vertical-align: top;\n",
              "    }\n",
              "\n",
              "    .dataframe thead th {\n",
              "        text-align: right;\n",
              "    }\n",
              "</style>\n",
              "<table border=\"1\" class=\"dataframe\">\n",
              "  <thead>\n",
              "    <tr style=\"text-align: right;\">\n",
              "      <th></th>\n",
              "      <th>MPG</th>\n",
              "      <th>Cylinders</th>\n",
              "      <th>Displacement</th>\n",
              "      <th>Horsepower</th>\n",
              "      <th>Weight</th>\n",
              "      <th>Acceleration</th>\n",
              "      <th>Model Year</th>\n",
              "      <th>Origin</th>\n",
              "      <th>car_name</th>\n",
              "    </tr>\n",
              "  </thead>\n",
              "  <tbody>\n",
              "    <tr>\n",
              "      <th>0</th>\n",
              "      <td>18.0</td>\n",
              "      <td>8</td>\n",
              "      <td>307.0</td>\n",
              "      <td>130.0</td>\n",
              "      <td>3504.0</td>\n",
              "      <td>12.0</td>\n",
              "      <td>70</td>\n",
              "      <td>1</td>\n",
              "      <td>chevrolet chevelle malibu</td>\n",
              "    </tr>\n",
              "    <tr>\n",
              "      <th>1</th>\n",
              "      <td>15.0</td>\n",
              "      <td>8</td>\n",
              "      <td>350.0</td>\n",
              "      <td>165.0</td>\n",
              "      <td>3693.0</td>\n",
              "      <td>11.5</td>\n",
              "      <td>70</td>\n",
              "      <td>1</td>\n",
              "      <td>buick skylark 320</td>\n",
              "    </tr>\n",
              "    <tr>\n",
              "      <th>2</th>\n",
              "      <td>18.0</td>\n",
              "      <td>8</td>\n",
              "      <td>318.0</td>\n",
              "      <td>150.0</td>\n",
              "      <td>3436.0</td>\n",
              "      <td>11.0</td>\n",
              "      <td>70</td>\n",
              "      <td>1</td>\n",
              "      <td>plymouth satellite</td>\n",
              "    </tr>\n",
              "    <tr>\n",
              "      <th>3</th>\n",
              "      <td>16.0</td>\n",
              "      <td>8</td>\n",
              "      <td>304.0</td>\n",
              "      <td>150.0</td>\n",
              "      <td>3433.0</td>\n",
              "      <td>12.0</td>\n",
              "      <td>70</td>\n",
              "      <td>1</td>\n",
              "      <td>amc rebel sst</td>\n",
              "    </tr>\n",
              "    <tr>\n",
              "      <th>4</th>\n",
              "      <td>17.0</td>\n",
              "      <td>8</td>\n",
              "      <td>302.0</td>\n",
              "      <td>140.0</td>\n",
              "      <td>3449.0</td>\n",
              "      <td>10.5</td>\n",
              "      <td>70</td>\n",
              "      <td>1</td>\n",
              "      <td>ford torino</td>\n",
              "    </tr>\n",
              "    <tr>\n",
              "      <th>...</th>\n",
              "      <td>...</td>\n",
              "      <td>...</td>\n",
              "      <td>...</td>\n",
              "      <td>...</td>\n",
              "      <td>...</td>\n",
              "      <td>...</td>\n",
              "      <td>...</td>\n",
              "      <td>...</td>\n",
              "      <td>...</td>\n",
              "    </tr>\n",
              "    <tr>\n",
              "      <th>393</th>\n",
              "      <td>27.0</td>\n",
              "      <td>4</td>\n",
              "      <td>140.0</td>\n",
              "      <td>86.0</td>\n",
              "      <td>2790.0</td>\n",
              "      <td>15.6</td>\n",
              "      <td>82</td>\n",
              "      <td>1</td>\n",
              "      <td>ford mustang gl</td>\n",
              "    </tr>\n",
              "    <tr>\n",
              "      <th>394</th>\n",
              "      <td>44.0</td>\n",
              "      <td>4</td>\n",
              "      <td>97.0</td>\n",
              "      <td>52.0</td>\n",
              "      <td>2130.0</td>\n",
              "      <td>24.6</td>\n",
              "      <td>82</td>\n",
              "      <td>2</td>\n",
              "      <td>vw pickup</td>\n",
              "    </tr>\n",
              "    <tr>\n",
              "      <th>395</th>\n",
              "      <td>32.0</td>\n",
              "      <td>4</td>\n",
              "      <td>135.0</td>\n",
              "      <td>84.0</td>\n",
              "      <td>2295.0</td>\n",
              "      <td>11.6</td>\n",
              "      <td>82</td>\n",
              "      <td>1</td>\n",
              "      <td>dodge rampage</td>\n",
              "    </tr>\n",
              "    <tr>\n",
              "      <th>396</th>\n",
              "      <td>28.0</td>\n",
              "      <td>4</td>\n",
              "      <td>120.0</td>\n",
              "      <td>79.0</td>\n",
              "      <td>2625.0</td>\n",
              "      <td>18.6</td>\n",
              "      <td>82</td>\n",
              "      <td>1</td>\n",
              "      <td>ford ranger</td>\n",
              "    </tr>\n",
              "    <tr>\n",
              "      <th>397</th>\n",
              "      <td>31.0</td>\n",
              "      <td>4</td>\n",
              "      <td>119.0</td>\n",
              "      <td>82.0</td>\n",
              "      <td>2720.0</td>\n",
              "      <td>19.4</td>\n",
              "      <td>82</td>\n",
              "      <td>1</td>\n",
              "      <td>chevy s-10</td>\n",
              "    </tr>\n",
              "  </tbody>\n",
              "</table>\n",
              "<p>398 rows × 9 columns</p>\n",
              "</div>\n",
              "      <button class=\"colab-df-convert\" onclick=\"convertToInteractive('df-c4d45e77-3103-4e22-84da-8192d9db652e')\"\n",
              "              title=\"Convert this dataframe to an interactive table.\"\n",
              "              style=\"display:none;\">\n",
              "        \n",
              "  <svg xmlns=\"http://www.w3.org/2000/svg\" height=\"24px\"viewBox=\"0 0 24 24\"\n",
              "       width=\"24px\">\n",
              "    <path d=\"M0 0h24v24H0V0z\" fill=\"none\"/>\n",
              "    <path d=\"M18.56 5.44l.94 2.06.94-2.06 2.06-.94-2.06-.94-.94-2.06-.94 2.06-2.06.94zm-11 1L8.5 8.5l.94-2.06 2.06-.94-2.06-.94L8.5 2.5l-.94 2.06-2.06.94zm10 10l.94 2.06.94-2.06 2.06-.94-2.06-.94-.94-2.06-.94 2.06-2.06.94z\"/><path d=\"M17.41 7.96l-1.37-1.37c-.4-.4-.92-.59-1.43-.59-.52 0-1.04.2-1.43.59L10.3 9.45l-7.72 7.72c-.78.78-.78 2.05 0 2.83L4 21.41c.39.39.9.59 1.41.59.51 0 1.02-.2 1.41-.59l7.78-7.78 2.81-2.81c.8-.78.8-2.07 0-2.86zM5.41 20L4 18.59l7.72-7.72 1.47 1.35L5.41 20z\"/>\n",
              "  </svg>\n",
              "      </button>\n",
              "      \n",
              "  <style>\n",
              "    .colab-df-container {\n",
              "      display:flex;\n",
              "      flex-wrap:wrap;\n",
              "      gap: 12px;\n",
              "    }\n",
              "\n",
              "    .colab-df-convert {\n",
              "      background-color: #E8F0FE;\n",
              "      border: none;\n",
              "      border-radius: 50%;\n",
              "      cursor: pointer;\n",
              "      display: none;\n",
              "      fill: #1967D2;\n",
              "      height: 32px;\n",
              "      padding: 0 0 0 0;\n",
              "      width: 32px;\n",
              "    }\n",
              "\n",
              "    .colab-df-convert:hover {\n",
              "      background-color: #E2EBFA;\n",
              "      box-shadow: 0px 1px 2px rgba(60, 64, 67, 0.3), 0px 1px 3px 1px rgba(60, 64, 67, 0.15);\n",
              "      fill: #174EA6;\n",
              "    }\n",
              "\n",
              "    [theme=dark] .colab-df-convert {\n",
              "      background-color: #3B4455;\n",
              "      fill: #D2E3FC;\n",
              "    }\n",
              "\n",
              "    [theme=dark] .colab-df-convert:hover {\n",
              "      background-color: #434B5C;\n",
              "      box-shadow: 0px 1px 3px 1px rgba(0, 0, 0, 0.15);\n",
              "      filter: drop-shadow(0px 1px 2px rgba(0, 0, 0, 0.3));\n",
              "      fill: #FFFFFF;\n",
              "    }\n",
              "  </style>\n",
              "\n",
              "      <script>\n",
              "        const buttonEl =\n",
              "          document.querySelector('#df-c4d45e77-3103-4e22-84da-8192d9db652e button.colab-df-convert');\n",
              "        buttonEl.style.display =\n",
              "          google.colab.kernel.accessAllowed ? 'block' : 'none';\n",
              "\n",
              "        async function convertToInteractive(key) {\n",
              "          const element = document.querySelector('#df-c4d45e77-3103-4e22-84da-8192d9db652e');\n",
              "          const dataTable =\n",
              "            await google.colab.kernel.invokeFunction('convertToInteractive',\n",
              "                                                     [key], {});\n",
              "          if (!dataTable) return;\n",
              "\n",
              "          const docLinkHtml = 'Like what you see? Visit the ' +\n",
              "            '<a target=\"_blank\" href=https://colab.research.google.com/notebooks/data_table.ipynb>data table notebook</a>'\n",
              "            + ' to learn more about interactive tables.';\n",
              "          element.innerHTML = '';\n",
              "          dataTable['output_type'] = 'display_data';\n",
              "          await google.colab.output.renderOutput(dataTable, element);\n",
              "          const docLink = document.createElement('div');\n",
              "          docLink.innerHTML = docLinkHtml;\n",
              "          element.appendChild(docLink);\n",
              "        }\n",
              "      </script>\n",
              "    </div>\n",
              "  </div>\n",
              "  "
            ]
          },
          "metadata": {},
          "execution_count": 2
        }
      ],
      "source": [
        "# TODO: Import data using the same method as Assignment 1\n",
        "\n",
        "column_names = [\n",
        "    'MPG', 'Cylinders', 'Displacement',\n",
        "    'Horsepower', 'Weight', 'Acceleration',\n",
        "    'Model Year', 'Origin', 'car_name'\n",
        "]\n",
        "\n",
        "raw_data = pd.read_csv(\n",
        "    \"auto-mpg.data\",\n",
        "    delim_whitespace=True,\n",
        "    names=column_names,\n",
        "    na_values='?'\n",
        ")\n",
        "raw_data"
      ]
    },
    {
      "cell_type": "code",
      "execution_count": 3,
      "id": "4177a4b0",
      "metadata": {
        "id": "4177a4b0"
      },
      "outputs": [],
      "source": [
        "# TODO: Fill in missing values with minimum of each column\n",
        "\n",
        "df = raw_data.fillna(raw_data.mean(numeric_only=True))"
      ]
    },
    {
      "cell_type": "markdown",
      "id": "057f7b44",
      "metadata": {
        "id": "057f7b44"
      },
      "source": [
        "If you try to use the ColumnTransformer on the data with all the existing features, you will get an error. This is because there are too many unique feature values in the `car_name` column to capture all possible values in the training set. For this assignment, we will remove the `car_name` column to avoid this problem."
      ]
    },
    {
      "cell_type": "code",
      "execution_count": null,
      "id": "9de9c598",
      "metadata": {
        "colab": {
          "base_uri": "https://localhost:8080/"
        },
        "id": "9de9c598",
        "outputId": "f11d4357-459e-46a3-f2c2-69e0377205f7"
      },
      "outputs": [
        {
          "output_type": "stream",
          "name": "stdout",
          "text": [
            "      mpg  cylinders  displacement  horsepower  weight  acceleration  \\\n",
            "0    15.0          8         350.0       165.0  3693.0          11.5   \n",
            "1    18.0          8         318.0       150.0  3436.0          11.0   \n",
            "2    16.0          8         304.0       150.0  3433.0          12.0   \n",
            "3    17.0          8         302.0       140.0  3449.0          10.5   \n",
            "4    15.0          8         429.0       198.0  4341.0          10.0   \n",
            "..    ...        ...           ...         ...     ...           ...   \n",
            "392  27.0          4         140.0        86.0  2790.0          15.6   \n",
            "393  44.0          4          97.0        52.0  2130.0          24.6   \n",
            "394  32.0          4         135.0        84.0  2295.0          11.6   \n",
            "395  28.0          4         120.0        79.0  2625.0          18.6   \n",
            "396  31.0          4         119.0        82.0  2720.0          19.4   \n",
            "\n",
            "     modelyear  origin  \n",
            "0           70       1  \n",
            "1           70       1  \n",
            "2           70       1  \n",
            "3           70       1  \n",
            "4           70       1  \n",
            "..         ...     ...  \n",
            "392         82       1  \n",
            "393         82       2  \n",
            "394         82       1  \n",
            "395         82       1  \n",
            "396         82       1  \n",
            "\n",
            "[397 rows x 8 columns]\n"
          ]
        }
      ],
      "source": [
        "# TODO: Remove car_name column\n",
        "\n",
        "df=df.drop('carname',axis=1)\n",
        "print(df)"
      ]
    },
    {
      "cell_type": "markdown",
      "id": "5b06354b",
      "metadata": {
        "id": "5b06354b"
      },
      "source": [
        "## Step 2: Preprocessing (2 marks)\n",
        "\n",
        "Looking at the dataset, we can see that there are some categorical (discrete) variables. Fill in the code block below to define a `ColumnTransformer` object that encodes the discrete variables and scales the continuous variables. Use the `StandardScaler()` class for scaling and the `OneHotEncoder` (with `sparse=False`) class for encoding."
      ]
    },
    {
      "cell_type": "code",
      "execution_count": 5,
      "id": "34db3d91",
      "metadata": {
        "id": "34db3d91"
      },
      "outputs": [],
      "source": [
        "# TODO: Implement ColumnTransformer\n",
        "\n",
        "from sklearn.compose import ColumnTransformer\n",
        "from sklearn.preprocessing import OneHotEncoder, StandardScaler, MinMaxScaler\n",
        "\n",
        "transform = [('cat', OneHotEncoder(sparse=False), [0, 6]), ('num', StandardScaler(), [1, 2, 3, 4, 5])]\n",
        "CT = ColumnTransformer(transformers=transform)"
      ]
    },
    {
      "cell_type": "markdown",
      "id": "80a0076f",
      "metadata": {
        "id": "80a0076f"
      },
      "source": [
        "## Step 3: Model Selection (4 marks)\n",
        "\n",
        "The first step is to test the `LinearRegression()` model with the original, untransformed data. Print the accuracy scores with **3 decimal places**"
      ]
    },
    {
      "cell_type": "code",
      "execution_count": 6,
      "id": "c6125634",
      "metadata": {
        "colab": {
          "base_uri": "https://localhost:8080/"
        },
        "id": "c6125634",
        "outputId": "c638d930-21af-4d09-ef6d-147fdbfd18b2"
      },
      "outputs": [
        {
          "output_type": "stream",
          "name": "stdout",
          "text": [
            "9.928, 14.112\n"
          ]
        }
      ],
      "source": [
        "# TODO: Print the training and validation accuracy for the LinearRegression() model applied to the untransformed data\n",
        "# NOTE: To split the dataset, use train_test_split(X, y, random_state=256)\n",
        "\n",
        "from sklearn.linear_model import LinearRegression\n",
        "from sklearn.model_selection import train_test_split\n",
        "from sklearn.metrics import mean_squared_error\n",
        "\n",
        "\n",
        "X = df.drop('MPG', axis = 1)\n",
        "y = df['MPG']\n",
        "\n",
        "X_train, X_test, y_train, y_test = train_test_split(X, y, random_state=256)\n",
        "\n",
        "LR = LinearRegression()\n",
        "\n",
        "LR.fit(X_train, y_train)\n",
        "y_train_pred = LR.predict(X_train)\n",
        "y_test_pred = LR.predict(X_test)\n",
        "\n",
        "train_err = mean_squared_error(y_train, y_train_pred)\n",
        "test_err = mean_squared_error(y_test, y_test_pred)\n",
        "print(f\"{train_err:.3f}, {test_err:.3f}\")"
      ]
    },
    {
      "cell_type": "markdown",
      "id": "0d2cb11e",
      "metadata": {
        "id": "0d2cb11e"
      },
      "source": [
        "Fill in the following function to fit the inputted model to the transformed dataset and calculate the accuracy:"
      ]
    },
    {
      "cell_type": "code",
      "execution_count": 7,
      "id": "ca7b4faa",
      "metadata": {
        "id": "ca7b4faa"
      },
      "outputs": [],
      "source": [
        "from sklearn.model_selection import train_test_split\n",
        "\n",
        "def transformed_model(data, model, ct):\n",
        "    '''Fits the model to the transformed training data and returns the accuracy of training and validation sets\n",
        "        \n",
        "        To split the dataset, use train_test_split(X, y, random_state=256)\n",
        "        \n",
        "        data (pandas.DataFrame): Original dataset\n",
        "        model (sklearn classifier): Classifier to train and evaluate\n",
        "        ct (sklearn ColumnTransformer): ColumnTransformer object\n",
        "        \n",
        "        Returns accuracy of transformed training and validation sets\n",
        "        \n",
        "    '''\n",
        "    # TODO: Fill in the rest of the function \n",
        "    X = data.drop('MPG', axis = 1)\n",
        "    y = data['MPG']\n",
        "    \n",
        "    X_ = ct.fit_transform(X)\n",
        "    \n",
        "    X_train, X_test, y_train, y_test = train_test_split(X_, y, random_state=256)\n",
        "    \n",
        "    model.fit(X_train, y_train)\n",
        "    y_train_pred = model.predict(X_train)\n",
        "    y_test_pred = model.predict(X_test)\n",
        "\n",
        "    train_err = mean_squared_error(y_train, y_train_pred)\n",
        "    test_err = mean_squared_error(y_test, y_test_pred)\n",
        "    return train_err, test_err"
      ]
    },
    {
      "cell_type": "markdown",
      "id": "10603a94",
      "metadata": {
        "id": "10603a94"
      },
      "source": [
        "## Step 4: Model Comparison (8 marks)\n",
        "\n",
        "Fill in the following code block to implement the `LinearRegression()` model using the `transformed_model` function. Print the accuracy scores with **3 decimal places**"
      ]
    },
    {
      "cell_type": "code",
      "execution_count": 9,
      "id": "24ddb5a1",
      "metadata": {
        "colab": {
          "base_uri": "https://localhost:8080/"
        },
        "id": "24ddb5a1",
        "outputId": "57759fc3-ab8f-4987-faa8-8d259d75362f"
      },
      "outputs": [
        {
          "output_type": "stream",
          "name": "stdout",
          "text": [
            "Train Error: 8.414, Test Error: 13.325\n"
          ]
        },
        {
          "output_type": "stream",
          "name": "stderr",
          "text": [
            "/usr/local/lib/python3.9/dist-packages/sklearn/preprocessing/_encoders.py:828: FutureWarning: `sparse` was renamed to `sparse_output` in version 1.2 and will be removed in 1.4. `sparse_output` is ignored unless you leave `sparse` to its default value.\n",
            "  warnings.warn(\n"
          ]
        }
      ],
      "source": [
        "# TODO: Implement the LinearRegression() model for the given dataset and transformation\n",
        "\n",
        "from sklearn.linear_model import LinearRegression\n",
        "LR = LinearRegression()\n",
        "train_err, test_err = transformed_model(df, LR, CT)\n",
        "print(f\"Train Error: {train_err:.3f}, Test Error: {test_err:.3f}\")"
      ]
    },
    {
      "cell_type": "markdown",
      "id": "2f9446eb",
      "metadata": {
        "id": "2f9446eb"
      },
      "source": [
        "What would happen if you changed the scaler to `MinMaxScaler`?\n",
        "\n",
        "*ADD YOUR ANSWER BELOW*\n",
        "\n",
        "- All feature values are scaled by MinMaxScaler to be between 0 and 1, with each feature's minimum value mapped to 0 and maximum value mapped to 1. The performance of your model will change if you go from another scaler to MinMaxScaler, and it will rely on the data and the details of the original scaler that was being used.\n",
        "\n",
        "- If you wish to maintain the relationship between the feature values or when you have features with extremely varied scales, MinMaxScaler can be helpful. For instance, MinMaxScaler can help put features on a more comparable scale if you have a dataset with features that have wildly different ranges, such as one feature that goes from 0 to 1000 and another that spans from 0 to 1."
      ]
    },
    {
      "cell_type": "code",
      "execution_count": 18,
      "id": "a9f1ad79",
      "metadata": {
        "colab": {
          "base_uri": "https://localhost:8080/"
        },
        "id": "a9f1ad79",
        "outputId": "396d0834-22f0-4c22-b171-7b1dd332b512"
      },
      "outputs": [
        {
          "output_type": "stream",
          "name": "stdout",
          "text": [
            "Train Error: 8.435, Test Error: 13.553\n"
          ]
        }
      ],
      "source": [
        "# TODO: Repeat analysis with MinMaxScaler\n",
        "\n",
        "transform = [('cat', OneHotEncoder(sparse_output=False), [0, 6]), ('num', MinMaxScaler(), [1, 2, 3, 4, 5])]\n",
        "CT = ColumnTransformer(transformers=transform)\n",
        "\n",
        "LR = LinearRegression()\n",
        "train_err, test_err = transformed_model(df, LR, CT)\n",
        "\n",
        "print(f\"Train Error: {train_err:.3f}, Test Error: {test_err:.3f}\")"
      ]
    },
    {
      "cell_type": "markdown",
      "id": "0fb38a6f",
      "metadata": {
        "id": "0fb38a6f"
      },
      "source": [
        "What would happen if you changed the model to `KNeighborsRegressor()`? Test with both scalers\n",
        "\n",
        "*ADD YOUR ANSWER BELOW*\n",
        "\n",
        "- KNeighbors Regressors are a subset of instance-based or lazy learning algorithms that rely predictions on how closely incoming data points resemble those of their closest neighbours. It is frequently applied to regression issues where the connections between the variables are asymmetric or non-parametric.\n",
        "\n",
        "- KNeighborsRegressor may perform well when paired with MinMaxScaler if the features have varied scales and the relationships between them are non-linear. KNeighborsRegressor could identify the non-linear correlations between the features, while MinMaxScaler could help scale the features to a similar scale.\n",
        "\n",
        "\n",
        "\n"
      ]
    },
    {
      "cell_type": "code",
      "execution_count": 17,
      "id": "fcfbc63c",
      "metadata": {
        "colab": {
          "base_uri": "https://localhost:8080/"
        },
        "id": "fcfbc63c",
        "outputId": "d6143b7e-d59a-4e34-e06f-3b8154c922a9"
      },
      "outputs": [
        {
          "output_type": "stream",
          "name": "stdout",
          "text": [
            "Train Error: 5.766, Test Error: 10.203\n",
            "Train Error: 5.801, Test Error: 10.323\n"
          ]
        }
      ],
      "source": [
        "# TODO: Repeat analysis with KNeighborsRegressor (default number of neighbors is 5)\n",
        "\n",
        "from sklearn.neighbors import KNeighborsRegressor\n",
        "\n",
        "\n",
        "# Model 1\n",
        "transform = [('cat', OneHotEncoder(sparse_output=False), [0, 6]), ('num', StandardScaler(), [1, 2, 3, 4, 5])]\n",
        "CT = ColumnTransformer(transformers=transform)\n",
        "KNR = KNeighborsRegressor(n_neighbors = 5)\n",
        "train_err, test_err = transformed_model(df, KNR, CT)\n",
        "print(f\"Train Error: {train_err:.3f}, Test Error: {test_err:.3f}\")\n",
        "\n",
        "\n",
        "# Model 2\n",
        "transform = [('cat', OneHotEncoder(sparse_output=False), [0, 6]), ('num', MinMaxScaler(), [1, 2, 3, 4, 5])]\n",
        "CT = ColumnTransformer(transformers=transform)\n",
        "KNR = KNeighborsRegressor(n_neighbors = 5)\n",
        "train_err, test_err = transformed_model(df, KNR, CT)\n",
        "print(f\"Train Error: {train_err:.3f}, Test Error: {test_err:.3f}\")"
      ]
    },
    {
      "cell_type": "markdown",
      "id": "ec9b453c",
      "metadata": {
        "id": "ec9b453c"
      },
      "source": [
        "Repeat analysis with `n_neighbors=3`:"
      ]
    },
    {
      "cell_type": "code",
      "execution_count": 15,
      "id": "c04c7ee7",
      "metadata": {
        "colab": {
          "base_uri": "https://localhost:8080/"
        },
        "id": "c04c7ee7",
        "outputId": "864d6bbb-722d-4983-877b-0c4052ce97d5"
      },
      "outputs": [
        {
          "output_type": "stream",
          "name": "stdout",
          "text": [
            "Train Error: 4.533, Test Error: 9.692\n",
            "Train Error: 3.799, Test Error: 11.302\n"
          ]
        }
      ],
      "source": [
        "# Repeat analysis with KNeighborsRegressor(n_neighbors=3)\n",
        "\n",
        "transform = [('cat', OneHotEncoder(sparse_output=False), [0, 6]), ('num', StandardScaler(), [1, 2, 3, 4, 5])]\n",
        "CT = ColumnTransformer(transformers=transform)\n",
        "KNR = KNeighborsRegressor(n_neighbors = 3)\n",
        "train_err, test_err = transformed_model(df, KNR, CT)\n",
        "print(f\"Train Error: {train_err:.3f}, Test Error: {test_err:.3f}\")\n",
        "\n",
        "\n",
        "# Model 2\n",
        "transform = [('cat', OneHotEncoder(sparse_output=False), [0, 6]), ('num', MinMaxScaler(), [1, 2, 3, 4, 5])]\n",
        "CT = ColumnTransformer(transformers=transform)\n",
        "KNR = KNeighborsRegressor(n_neighbors = 3)\n",
        "train_err, test_err = transformed_model(df, KNR, CT)\n",
        "print(f\"Train Error: {train_err:.3f}, Test Error: {test_err:.3f}\")"
      ]
    },
    {
      "cell_type": "markdown",
      "id": "74519843",
      "metadata": {
        "id": "74519843"
      },
      "source": [
        "## Step 5: Answer the following questions (3 marks)\n",
        "\n",
        "1. Which model and scaler combination produced the best accuracy?\n",
        "1. What did you observe when changing models and changing scalers? Also compare to untransformed dataset\n",
        "\n",
        "*ADD YOUR ANSWERS HERE*\n",
        "\n",
        "1) MinMaxscaler and KNN Neighbors model achieved the best accuracy.\n",
        "\n",
        "The transformed model() method utilising StandardScaler() and LinearRegression() model produced the best accuracy when various models and scalers were tested. This combination resulted in the highest validation R-squared score of 0.840, which means that this model explains 84% of the variance in the validation set.\n",
        "\n",
        "2) The accuracy score is affected by model and scaler changes as follows:\n",
        "\n",
        "We found that the performance of the models varied depending on the data transformation technique employed when changing scalers and models. The best model and scaler combinations achieved noticeably higher accuracy scores than the untransformed data, and overall, the transformed data gave better outcomes than the untransformed data. With the exception of the KNeighborsRegressor() model, where performance was slightly better with MinMaxScaler, scaling the data with StandardScaler() generally generated better results than MinMaxScaler(). This might be as a result of the distance-based nature of KNeighborsRegressor(), which makes it more sensitive to the scaling of the data."
      ]
    }
  ],
  "metadata": {
    "kernelspec": {
      "display_name": "Python 3 (ipykernel)",
      "language": "python",
      "name": "python3"
    },
    "language_info": {
      "codemirror_mode": {
        "name": "ipython",
        "version": 3
      },
      "file_extension": ".py",
      "mimetype": "text/x-python",
      "name": "python",
      "nbconvert_exporter": "python",
      "pygments_lexer": "ipython3",
      "version": "3.9.13"
    },
    "colab": {
      "provenance": []
    }
  },
  "nbformat": 4,
  "nbformat_minor": 5
}
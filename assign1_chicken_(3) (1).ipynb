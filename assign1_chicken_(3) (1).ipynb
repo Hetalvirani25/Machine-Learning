{
  "cells": [
    {
      "cell_type": "markdown",
      "metadata": {
        "id": "u4q0XpVQGG15"
      },
      "source": [
        "# ENEL 682: Assignment 1-3\n",
        "\n",
        "Edit this file and write your solutions to the problems in sections specified with `# Your solution goes here`.\n",
        "\n",
        "Submit the Google Colab link to your completed file to D2L"
      ]
    },
    {
      "cell_type": "markdown",
      "metadata": {
        "id": "H1PfKANVGG2J"
      },
      "source": [
        "# Analyzing Chicken and Eggs\n",
        "The goal of this assignment is to recreate the analysis of the chicken and eggs dataset presented in this video:  \n",
        "https://www.youtube.com/watch?v=j6ClFJhnG18\n",
        "\n",
        "Watch the video. The first half is about visualization in general, the chicken and egg analysis starts at about 9:50. Note that the author uses R rather than Python.\n",
        "\n",
        "The dataset is unfortunately not available, so a dataset has been created, saved as `chicken.csv` and posted on D2L. There are differences in the numbers, but the character should be the same.\n",
        "\n",
        "In A. Analysis below, the different analysis steps are prepared for you. For all plots, you are asked to produce the plot first with Pandas.plot() and then with Seaborn. Section B. Reflection asks you to think about both of these ways of plotting, which you prefer and for what cases. "
      ]
    },
    {
      "cell_type": "code",
      "execution_count": null,
      "metadata": {
        "id": "0Ynp_68_GG2N"
      },
      "outputs": [],
      "source": [
        "%matplotlib inline\n",
        "\n",
        "# Import relevant libraries here\n",
        "import numpy as np\n",
        "import pandas as pd\n",
        "import matplotlib as mpl\n",
        "import matplotlib.pyplot as plt\n",
        "import seaborn as sns"
      ]
    },
    {
      "cell_type": "markdown",
      "metadata": {
        "id": "4mxMr00UGG2S"
      },
      "source": [
        "## A. Analyzing the data"
      ]
    },
    {
      "cell_type": "markdown",
      "metadata": {
        "id": "lBodv5rRGG2U"
      },
      "source": [
        "### 0. Read in the data "
      ]
    },
    {
      "cell_type": "code",
      "execution_count": null,
      "metadata": {
        "id": "G5nj0TAkGG2W",
        "colab": {
          "base_uri": "https://localhost:8080/",
          "height": 423
        },
        "outputId": "8ca4f565-cfff-4e9c-ea7e-bf70d01dce7e"
      },
      "outputs": [
        {
          "output_type": "execute_result",
          "data": {
            "text/plain": [
              "     week  age diet  weight  eggs\n",
              "0       0  147    A  3106.2     4\n",
              "1       0  157    A  2891.7     5\n",
              "2       0  163    A  2958.3     4\n",
              "3       0  145    A  3188.7     5\n",
              "4       0  162    A  3491.7     5\n",
              "..    ...  ...  ...     ...   ...\n",
              "355    22  212    C  2966.5     4\n",
              "356    22  176    C  3927.9     4\n",
              "357    22  180    C  3361.6     5\n",
              "358    22  193    C  3804.4     5\n",
              "359    22  210    C  4046.7     3\n",
              "\n",
              "[360 rows x 5 columns]"
            ],
            "text/html": [
              "\n",
              "  <div id=\"df-14a60abd-6db2-477e-bb10-223b74db3538\">\n",
              "    <div class=\"colab-df-container\">\n",
              "      <div>\n",
              "<style scoped>\n",
              "    .dataframe tbody tr th:only-of-type {\n",
              "        vertical-align: middle;\n",
              "    }\n",
              "\n",
              "    .dataframe tbody tr th {\n",
              "        vertical-align: top;\n",
              "    }\n",
              "\n",
              "    .dataframe thead th {\n",
              "        text-align: right;\n",
              "    }\n",
              "</style>\n",
              "<table border=\"1\" class=\"dataframe\">\n",
              "  <thead>\n",
              "    <tr style=\"text-align: right;\">\n",
              "      <th></th>\n",
              "      <th>week</th>\n",
              "      <th>age</th>\n",
              "      <th>diet</th>\n",
              "      <th>weight</th>\n",
              "      <th>eggs</th>\n",
              "    </tr>\n",
              "  </thead>\n",
              "  <tbody>\n",
              "    <tr>\n",
              "      <th>0</th>\n",
              "      <td>0</td>\n",
              "      <td>147</td>\n",
              "      <td>A</td>\n",
              "      <td>3106.2</td>\n",
              "      <td>4</td>\n",
              "    </tr>\n",
              "    <tr>\n",
              "      <th>1</th>\n",
              "      <td>0</td>\n",
              "      <td>157</td>\n",
              "      <td>A</td>\n",
              "      <td>2891.7</td>\n",
              "      <td>5</td>\n",
              "    </tr>\n",
              "    <tr>\n",
              "      <th>2</th>\n",
              "      <td>0</td>\n",
              "      <td>163</td>\n",
              "      <td>A</td>\n",
              "      <td>2958.3</td>\n",
              "      <td>4</td>\n",
              "    </tr>\n",
              "    <tr>\n",
              "      <th>3</th>\n",
              "      <td>0</td>\n",
              "      <td>145</td>\n",
              "      <td>A</td>\n",
              "      <td>3188.7</td>\n",
              "      <td>5</td>\n",
              "    </tr>\n",
              "    <tr>\n",
              "      <th>4</th>\n",
              "      <td>0</td>\n",
              "      <td>162</td>\n",
              "      <td>A</td>\n",
              "      <td>3491.7</td>\n",
              "      <td>5</td>\n",
              "    </tr>\n",
              "    <tr>\n",
              "      <th>...</th>\n",
              "      <td>...</td>\n",
              "      <td>...</td>\n",
              "      <td>...</td>\n",
              "      <td>...</td>\n",
              "      <td>...</td>\n",
              "    </tr>\n",
              "    <tr>\n",
              "      <th>355</th>\n",
              "      <td>22</td>\n",
              "      <td>212</td>\n",
              "      <td>C</td>\n",
              "      <td>2966.5</td>\n",
              "      <td>4</td>\n",
              "    </tr>\n",
              "    <tr>\n",
              "      <th>356</th>\n",
              "      <td>22</td>\n",
              "      <td>176</td>\n",
              "      <td>C</td>\n",
              "      <td>3927.9</td>\n",
              "      <td>4</td>\n",
              "    </tr>\n",
              "    <tr>\n",
              "      <th>357</th>\n",
              "      <td>22</td>\n",
              "      <td>180</td>\n",
              "      <td>C</td>\n",
              "      <td>3361.6</td>\n",
              "      <td>5</td>\n",
              "    </tr>\n",
              "    <tr>\n",
              "      <th>358</th>\n",
              "      <td>22</td>\n",
              "      <td>193</td>\n",
              "      <td>C</td>\n",
              "      <td>3804.4</td>\n",
              "      <td>5</td>\n",
              "    </tr>\n",
              "    <tr>\n",
              "      <th>359</th>\n",
              "      <td>22</td>\n",
              "      <td>210</td>\n",
              "      <td>C</td>\n",
              "      <td>4046.7</td>\n",
              "      <td>3</td>\n",
              "    </tr>\n",
              "  </tbody>\n",
              "</table>\n",
              "<p>360 rows × 5 columns</p>\n",
              "</div>\n",
              "      <button class=\"colab-df-convert\" onclick=\"convertToInteractive('df-14a60abd-6db2-477e-bb10-223b74db3538')\"\n",
              "              title=\"Convert this dataframe to an interactive table.\"\n",
              "              style=\"display:none;\">\n",
              "        \n",
              "  <svg xmlns=\"http://www.w3.org/2000/svg\" height=\"24px\"viewBox=\"0 0 24 24\"\n",
              "       width=\"24px\">\n",
              "    <path d=\"M0 0h24v24H0V0z\" fill=\"none\"/>\n",
              "    <path d=\"M18.56 5.44l.94 2.06.94-2.06 2.06-.94-2.06-.94-.94-2.06-.94 2.06-2.06.94zm-11 1L8.5 8.5l.94-2.06 2.06-.94-2.06-.94L8.5 2.5l-.94 2.06-2.06.94zm10 10l.94 2.06.94-2.06 2.06-.94-2.06-.94-.94-2.06-.94 2.06-2.06.94z\"/><path d=\"M17.41 7.96l-1.37-1.37c-.4-.4-.92-.59-1.43-.59-.52 0-1.04.2-1.43.59L10.3 9.45l-7.72 7.72c-.78.78-.78 2.05 0 2.83L4 21.41c.39.39.9.59 1.41.59.51 0 1.02-.2 1.41-.59l7.78-7.78 2.81-2.81c.8-.78.8-2.07 0-2.86zM5.41 20L4 18.59l7.72-7.72 1.47 1.35L5.41 20z\"/>\n",
              "  </svg>\n",
              "      </button>\n",
              "      \n",
              "  <style>\n",
              "    .colab-df-container {\n",
              "      display:flex;\n",
              "      flex-wrap:wrap;\n",
              "      gap: 12px;\n",
              "    }\n",
              "\n",
              "    .colab-df-convert {\n",
              "      background-color: #E8F0FE;\n",
              "      border: none;\n",
              "      border-radius: 50%;\n",
              "      cursor: pointer;\n",
              "      display: none;\n",
              "      fill: #1967D2;\n",
              "      height: 32px;\n",
              "      padding: 0 0 0 0;\n",
              "      width: 32px;\n",
              "    }\n",
              "\n",
              "    .colab-df-convert:hover {\n",
              "      background-color: #E2EBFA;\n",
              "      box-shadow: 0px 1px 2px rgba(60, 64, 67, 0.3), 0px 1px 3px 1px rgba(60, 64, 67, 0.15);\n",
              "      fill: #174EA6;\n",
              "    }\n",
              "\n",
              "    [theme=dark] .colab-df-convert {\n",
              "      background-color: #3B4455;\n",
              "      fill: #D2E3FC;\n",
              "    }\n",
              "\n",
              "    [theme=dark] .colab-df-convert:hover {\n",
              "      background-color: #434B5C;\n",
              "      box-shadow: 0px 1px 3px 1px rgba(0, 0, 0, 0.15);\n",
              "      filter: drop-shadow(0px 1px 2px rgba(0, 0, 0, 0.3));\n",
              "      fill: #FFFFFF;\n",
              "    }\n",
              "  </style>\n",
              "\n",
              "      <script>\n",
              "        const buttonEl =\n",
              "          document.querySelector('#df-14a60abd-6db2-477e-bb10-223b74db3538 button.colab-df-convert');\n",
              "        buttonEl.style.display =\n",
              "          google.colab.kernel.accessAllowed ? 'block' : 'none';\n",
              "\n",
              "        async function convertToInteractive(key) {\n",
              "          const element = document.querySelector('#df-14a60abd-6db2-477e-bb10-223b74db3538');\n",
              "          const dataTable =\n",
              "            await google.colab.kernel.invokeFunction('convertToInteractive',\n",
              "                                                     [key], {});\n",
              "          if (!dataTable) return;\n",
              "\n",
              "          const docLinkHtml = 'Like what you see? Visit the ' +\n",
              "            '<a target=\"_blank\" href=https://colab.research.google.com/notebooks/data_table.ipynb>data table notebook</a>'\n",
              "            + ' to learn more about interactive tables.';\n",
              "          element.innerHTML = '';\n",
              "          dataTable['output_type'] = 'display_data';\n",
              "          await google.colab.output.renderOutput(dataTable, element);\n",
              "          const docLink = document.createElement('div');\n",
              "          docLink.innerHTML = docLinkHtml;\n",
              "          element.appendChild(docLink);\n",
              "        }\n",
              "      </script>\n",
              "    </div>\n",
              "  </div>\n",
              "  "
            ]
          },
          "metadata": {},
          "execution_count": 9
        }
      ],
      "source": [
        "# Your solution goes here\n",
        "data=pd.read_csv('chicken.csv')\n",
        "data"
      ]
    },
    {
      "cell_type": "markdown",
      "metadata": {
        "id": "dSSCq9SgGG2Z"
      },
      "source": [
        "### 1. Weight by diet summary stats (Pandas groupby and describe)"
      ]
    },
    {
      "cell_type": "code",
      "execution_count": null,
      "metadata": {
        "colab": {
          "base_uri": "https://localhost:8080/",
          "height": 174
        },
        "id": "TwCNf8OMGG2b",
        "outputId": "5b94629d-4523-4509-cced-e2fcefbcf039"
      },
      "outputs": [
        {
          "output_type": "execute_result",
          "data": {
            "text/plain": [
              "      count         mean         std     min       25%      50%       75%  \\\n",
              "diet                                                                        \n",
              "A     120.0  3634.852500  447.654043  2683.9  3284.250  3601.10  3952.375   \n",
              "B     120.0  3351.299167  316.871704  2690.3  3122.175  3333.55  3590.400   \n",
              "C     120.0  3415.831667  449.476292  2383.3  3114.500  3417.85  3731.375   \n",
              "\n",
              "         max  \n",
              "diet          \n",
              "A     4845.0  \n",
              "B     4057.6  \n",
              "C     4508.7  "
            ],
            "text/html": [
              "\n",
              "  <div id=\"df-12092bc3-021e-4293-af53-cfb5ee8bc4e0\">\n",
              "    <div class=\"colab-df-container\">\n",
              "      <div>\n",
              "<style scoped>\n",
              "    .dataframe tbody tr th:only-of-type {\n",
              "        vertical-align: middle;\n",
              "    }\n",
              "\n",
              "    .dataframe tbody tr th {\n",
              "        vertical-align: top;\n",
              "    }\n",
              "\n",
              "    .dataframe thead th {\n",
              "        text-align: right;\n",
              "    }\n",
              "</style>\n",
              "<table border=\"1\" class=\"dataframe\">\n",
              "  <thead>\n",
              "    <tr style=\"text-align: right;\">\n",
              "      <th></th>\n",
              "      <th>count</th>\n",
              "      <th>mean</th>\n",
              "      <th>std</th>\n",
              "      <th>min</th>\n",
              "      <th>25%</th>\n",
              "      <th>50%</th>\n",
              "      <th>75%</th>\n",
              "      <th>max</th>\n",
              "    </tr>\n",
              "    <tr>\n",
              "      <th>diet</th>\n",
              "      <th></th>\n",
              "      <th></th>\n",
              "      <th></th>\n",
              "      <th></th>\n",
              "      <th></th>\n",
              "      <th></th>\n",
              "      <th></th>\n",
              "      <th></th>\n",
              "    </tr>\n",
              "  </thead>\n",
              "  <tbody>\n",
              "    <tr>\n",
              "      <th>A</th>\n",
              "      <td>120.0</td>\n",
              "      <td>3634.852500</td>\n",
              "      <td>447.654043</td>\n",
              "      <td>2683.9</td>\n",
              "      <td>3284.250</td>\n",
              "      <td>3601.10</td>\n",
              "      <td>3952.375</td>\n",
              "      <td>4845.0</td>\n",
              "    </tr>\n",
              "    <tr>\n",
              "      <th>B</th>\n",
              "      <td>120.0</td>\n",
              "      <td>3351.299167</td>\n",
              "      <td>316.871704</td>\n",
              "      <td>2690.3</td>\n",
              "      <td>3122.175</td>\n",
              "      <td>3333.55</td>\n",
              "      <td>3590.400</td>\n",
              "      <td>4057.6</td>\n",
              "    </tr>\n",
              "    <tr>\n",
              "      <th>C</th>\n",
              "      <td>120.0</td>\n",
              "      <td>3415.831667</td>\n",
              "      <td>449.476292</td>\n",
              "      <td>2383.3</td>\n",
              "      <td>3114.500</td>\n",
              "      <td>3417.85</td>\n",
              "      <td>3731.375</td>\n",
              "      <td>4508.7</td>\n",
              "    </tr>\n",
              "  </tbody>\n",
              "</table>\n",
              "</div>\n",
              "      <button class=\"colab-df-convert\" onclick=\"convertToInteractive('df-12092bc3-021e-4293-af53-cfb5ee8bc4e0')\"\n",
              "              title=\"Convert this dataframe to an interactive table.\"\n",
              "              style=\"display:none;\">\n",
              "        \n",
              "  <svg xmlns=\"http://www.w3.org/2000/svg\" height=\"24px\"viewBox=\"0 0 24 24\"\n",
              "       width=\"24px\">\n",
              "    <path d=\"M0 0h24v24H0V0z\" fill=\"none\"/>\n",
              "    <path d=\"M18.56 5.44l.94 2.06.94-2.06 2.06-.94-2.06-.94-.94-2.06-.94 2.06-2.06.94zm-11 1L8.5 8.5l.94-2.06 2.06-.94-2.06-.94L8.5 2.5l-.94 2.06-2.06.94zm10 10l.94 2.06.94-2.06 2.06-.94-2.06-.94-.94-2.06-.94 2.06-2.06.94z\"/><path d=\"M17.41 7.96l-1.37-1.37c-.4-.4-.92-.59-1.43-.59-.52 0-1.04.2-1.43.59L10.3 9.45l-7.72 7.72c-.78.78-.78 2.05 0 2.83L4 21.41c.39.39.9.59 1.41.59.51 0 1.02-.2 1.41-.59l7.78-7.78 2.81-2.81c.8-.78.8-2.07 0-2.86zM5.41 20L4 18.59l7.72-7.72 1.47 1.35L5.41 20z\"/>\n",
              "  </svg>\n",
              "      </button>\n",
              "      \n",
              "  <style>\n",
              "    .colab-df-container {\n",
              "      display:flex;\n",
              "      flex-wrap:wrap;\n",
              "      gap: 12px;\n",
              "    }\n",
              "\n",
              "    .colab-df-convert {\n",
              "      background-color: #E8F0FE;\n",
              "      border: none;\n",
              "      border-radius: 50%;\n",
              "      cursor: pointer;\n",
              "      display: none;\n",
              "      fill: #1967D2;\n",
              "      height: 32px;\n",
              "      padding: 0 0 0 0;\n",
              "      width: 32px;\n",
              "    }\n",
              "\n",
              "    .colab-df-convert:hover {\n",
              "      background-color: #E2EBFA;\n",
              "      box-shadow: 0px 1px 2px rgba(60, 64, 67, 0.3), 0px 1px 3px 1px rgba(60, 64, 67, 0.15);\n",
              "      fill: #174EA6;\n",
              "    }\n",
              "\n",
              "    [theme=dark] .colab-df-convert {\n",
              "      background-color: #3B4455;\n",
              "      fill: #D2E3FC;\n",
              "    }\n",
              "\n",
              "    [theme=dark] .colab-df-convert:hover {\n",
              "      background-color: #434B5C;\n",
              "      box-shadow: 0px 1px 3px 1px rgba(0, 0, 0, 0.15);\n",
              "      filter: drop-shadow(0px 1px 2px rgba(0, 0, 0, 0.3));\n",
              "      fill: #FFFFFF;\n",
              "    }\n",
              "  </style>\n",
              "\n",
              "      <script>\n",
              "        const buttonEl =\n",
              "          document.querySelector('#df-12092bc3-021e-4293-af53-cfb5ee8bc4e0 button.colab-df-convert');\n",
              "        buttonEl.style.display =\n",
              "          google.colab.kernel.accessAllowed ? 'block' : 'none';\n",
              "\n",
              "        async function convertToInteractive(key) {\n",
              "          const element = document.querySelector('#df-12092bc3-021e-4293-af53-cfb5ee8bc4e0');\n",
              "          const dataTable =\n",
              "            await google.colab.kernel.invokeFunction('convertToInteractive',\n",
              "                                                     [key], {});\n",
              "          if (!dataTable) return;\n",
              "\n",
              "          const docLinkHtml = 'Like what you see? Visit the ' +\n",
              "            '<a target=\"_blank\" href=https://colab.research.google.com/notebooks/data_table.ipynb>data table notebook</a>'\n",
              "            + ' to learn more about interactive tables.';\n",
              "          element.innerHTML = '';\n",
              "          dataTable['output_type'] = 'display_data';\n",
              "          await google.colab.output.renderOutput(dataTable, element);\n",
              "          const docLink = document.createElement('div');\n",
              "          docLink.innerHTML = docLinkHtml;\n",
              "          element.appendChild(docLink);\n",
              "        }\n",
              "      </script>\n",
              "    </div>\n",
              "  </div>\n",
              "  "
            ]
          },
          "metadata": {},
          "execution_count": 5
        }
      ],
      "source": [
        "# Your solution goes here\n",
        "data.groupby(by='diet').describe().weight"
      ]
    },
    {
      "cell_type": "markdown",
      "metadata": {
        "id": "bVO9J5LKGG2d"
      },
      "source": [
        "### 2. Eggs by diet summary stats (Pandas groupby and describe)"
      ]
    },
    {
      "cell_type": "code",
      "execution_count": null,
      "metadata": {
        "colab": {
          "base_uri": "https://localhost:8080/",
          "height": 174
        },
        "id": "96RAAJ5pGG2f",
        "outputId": "b3e6725c-aa71-44ff-9aaa-8db54921503b"
      },
      "outputs": [
        {
          "output_type": "execute_result",
          "data": {
            "text/plain": [
              "      count      mean       std  min  25%  50%  75%  max\n",
              "diet                                                    \n",
              "A     120.0  4.483333  0.501817  4.0  4.0  4.0  5.0  5.0\n",
              "B     120.0  4.033333  0.709282  3.0  4.0  4.0  5.0  5.0\n",
              "C     120.0  4.175000  0.706066  3.0  4.0  4.0  5.0  5.0"
            ],
            "text/html": [
              "\n",
              "  <div id=\"df-00fa9902-76dd-46cf-992a-1003c770375e\">\n",
              "    <div class=\"colab-df-container\">\n",
              "      <div>\n",
              "<style scoped>\n",
              "    .dataframe tbody tr th:only-of-type {\n",
              "        vertical-align: middle;\n",
              "    }\n",
              "\n",
              "    .dataframe tbody tr th {\n",
              "        vertical-align: top;\n",
              "    }\n",
              "\n",
              "    .dataframe thead th {\n",
              "        text-align: right;\n",
              "    }\n",
              "</style>\n",
              "<table border=\"1\" class=\"dataframe\">\n",
              "  <thead>\n",
              "    <tr style=\"text-align: right;\">\n",
              "      <th></th>\n",
              "      <th>count</th>\n",
              "      <th>mean</th>\n",
              "      <th>std</th>\n",
              "      <th>min</th>\n",
              "      <th>25%</th>\n",
              "      <th>50%</th>\n",
              "      <th>75%</th>\n",
              "      <th>max</th>\n",
              "    </tr>\n",
              "    <tr>\n",
              "      <th>diet</th>\n",
              "      <th></th>\n",
              "      <th></th>\n",
              "      <th></th>\n",
              "      <th></th>\n",
              "      <th></th>\n",
              "      <th></th>\n",
              "      <th></th>\n",
              "      <th></th>\n",
              "    </tr>\n",
              "  </thead>\n",
              "  <tbody>\n",
              "    <tr>\n",
              "      <th>A</th>\n",
              "      <td>120.0</td>\n",
              "      <td>4.483333</td>\n",
              "      <td>0.501817</td>\n",
              "      <td>4.0</td>\n",
              "      <td>4.0</td>\n",
              "      <td>4.0</td>\n",
              "      <td>5.0</td>\n",
              "      <td>5.0</td>\n",
              "    </tr>\n",
              "    <tr>\n",
              "      <th>B</th>\n",
              "      <td>120.0</td>\n",
              "      <td>4.033333</td>\n",
              "      <td>0.709282</td>\n",
              "      <td>3.0</td>\n",
              "      <td>4.0</td>\n",
              "      <td>4.0</td>\n",
              "      <td>5.0</td>\n",
              "      <td>5.0</td>\n",
              "    </tr>\n",
              "    <tr>\n",
              "      <th>C</th>\n",
              "      <td>120.0</td>\n",
              "      <td>4.175000</td>\n",
              "      <td>0.706066</td>\n",
              "      <td>3.0</td>\n",
              "      <td>4.0</td>\n",
              "      <td>4.0</td>\n",
              "      <td>5.0</td>\n",
              "      <td>5.0</td>\n",
              "    </tr>\n",
              "  </tbody>\n",
              "</table>\n",
              "</div>\n",
              "      <button class=\"colab-df-convert\" onclick=\"convertToInteractive('df-00fa9902-76dd-46cf-992a-1003c770375e')\"\n",
              "              title=\"Convert this dataframe to an interactive table.\"\n",
              "              style=\"display:none;\">\n",
              "        \n",
              "  <svg xmlns=\"http://www.w3.org/2000/svg\" height=\"24px\"viewBox=\"0 0 24 24\"\n",
              "       width=\"24px\">\n",
              "    <path d=\"M0 0h24v24H0V0z\" fill=\"none\"/>\n",
              "    <path d=\"M18.56 5.44l.94 2.06.94-2.06 2.06-.94-2.06-.94-.94-2.06-.94 2.06-2.06.94zm-11 1L8.5 8.5l.94-2.06 2.06-.94-2.06-.94L8.5 2.5l-.94 2.06-2.06.94zm10 10l.94 2.06.94-2.06 2.06-.94-2.06-.94-.94-2.06-.94 2.06-2.06.94z\"/><path d=\"M17.41 7.96l-1.37-1.37c-.4-.4-.92-.59-1.43-.59-.52 0-1.04.2-1.43.59L10.3 9.45l-7.72 7.72c-.78.78-.78 2.05 0 2.83L4 21.41c.39.39.9.59 1.41.59.51 0 1.02-.2 1.41-.59l7.78-7.78 2.81-2.81c.8-.78.8-2.07 0-2.86zM5.41 20L4 18.59l7.72-7.72 1.47 1.35L5.41 20z\"/>\n",
              "  </svg>\n",
              "      </button>\n",
              "      \n",
              "  <style>\n",
              "    .colab-df-container {\n",
              "      display:flex;\n",
              "      flex-wrap:wrap;\n",
              "      gap: 12px;\n",
              "    }\n",
              "\n",
              "    .colab-df-convert {\n",
              "      background-color: #E8F0FE;\n",
              "      border: none;\n",
              "      border-radius: 50%;\n",
              "      cursor: pointer;\n",
              "      display: none;\n",
              "      fill: #1967D2;\n",
              "      height: 32px;\n",
              "      padding: 0 0 0 0;\n",
              "      width: 32px;\n",
              "    }\n",
              "\n",
              "    .colab-df-convert:hover {\n",
              "      background-color: #E2EBFA;\n",
              "      box-shadow: 0px 1px 2px rgba(60, 64, 67, 0.3), 0px 1px 3px 1px rgba(60, 64, 67, 0.15);\n",
              "      fill: #174EA6;\n",
              "    }\n",
              "\n",
              "    [theme=dark] .colab-df-convert {\n",
              "      background-color: #3B4455;\n",
              "      fill: #D2E3FC;\n",
              "    }\n",
              "\n",
              "    [theme=dark] .colab-df-convert:hover {\n",
              "      background-color: #434B5C;\n",
              "      box-shadow: 0px 1px 3px 1px rgba(0, 0, 0, 0.15);\n",
              "      filter: drop-shadow(0px 1px 2px rgba(0, 0, 0, 0.3));\n",
              "      fill: #FFFFFF;\n",
              "    }\n",
              "  </style>\n",
              "\n",
              "      <script>\n",
              "        const buttonEl =\n",
              "          document.querySelector('#df-00fa9902-76dd-46cf-992a-1003c770375e button.colab-df-convert');\n",
              "        buttonEl.style.display =\n",
              "          google.colab.kernel.accessAllowed ? 'block' : 'none';\n",
              "\n",
              "        async function convertToInteractive(key) {\n",
              "          const element = document.querySelector('#df-00fa9902-76dd-46cf-992a-1003c770375e');\n",
              "          const dataTable =\n",
              "            await google.colab.kernel.invokeFunction('convertToInteractive',\n",
              "                                                     [key], {});\n",
              "          if (!dataTable) return;\n",
              "\n",
              "          const docLinkHtml = 'Like what you see? Visit the ' +\n",
              "            '<a target=\"_blank\" href=https://colab.research.google.com/notebooks/data_table.ipynb>data table notebook</a>'\n",
              "            + ' to learn more about interactive tables.';\n",
              "          element.innerHTML = '';\n",
              "          dataTable['output_type'] = 'display_data';\n",
              "          await google.colab.output.renderOutput(dataTable, element);\n",
              "          const docLink = document.createElement('div');\n",
              "          docLink.innerHTML = docLinkHtml;\n",
              "          element.appendChild(docLink);\n",
              "        }\n",
              "      </script>\n",
              "    </div>\n",
              "  </div>\n",
              "  "
            ]
          },
          "metadata": {},
          "execution_count": 6
        }
      ],
      "source": [
        "# Your solution goes here\n",
        "data.groupby(by='diet').describe().eggs"
      ]
    },
    {
      "cell_type": "markdown",
      "metadata": {
        "id": "Z_49atVyGG2h"
      },
      "source": [
        "### 3.1 Histogram of age of chickens (Pandas hist())"
      ]
    },
    {
      "cell_type": "code",
      "execution_count": null,
      "metadata": {
        "colab": {
          "base_uri": "https://localhost:8080/",
          "height": 282
        },
        "id": "hlhocUpYGG2j",
        "outputId": "40372669-638b-4c7b-8ce3-66dfe9b17517"
      },
      "outputs": [
        {
          "output_type": "execute_result",
          "data": {
            "text/plain": [
              "<matplotlib.axes._subplots.AxesSubplot at 0x7f3a1d745a60>"
            ]
          },
          "metadata": {},
          "execution_count": 7
        },
        {
          "output_type": "display_data",
          "data": {
            "text/plain": [
              "<Figure size 432x288 with 1 Axes>"
            ],
            "image/png": "[encoded data removed]"
          },
          "metadata": {
            "needs_background": "light"
          }
        }
      ],
      "source": [
        "# Your solution goes here\n",
        "data['age'].plot.hist()"
      ]
    },
    {
      "cell_type": "markdown",
      "metadata": {
        "id": "f5iiRmxpGG2l"
      },
      "source": [
        "### 3.2 Histogram of age of chickens (Seaborn distplot())"
      ]
    },
    {
      "cell_type": "code",
      "execution_count": null,
      "metadata": {
        "colab": {
          "base_uri": "https://localhost:8080/",
          "height": 386
        },
        "id": "p4PKgRyMGG2m",
        "outputId": "becc9451-ca34-4ba4-a99e-401343e5c10f"
      },
      "outputs": [
        {
          "output_type": "execute_result",
          "data": {
            "text/plain": [
              "<seaborn.axisgrid.FacetGrid at 0x7f3a1d690a90>"
            ]
          },
          "metadata": {},
          "execution_count": 16
        },
        {
          "output_type": "display_data",
          "data": {
            "text/plain": [
              "<Figure size 360x360 with 1 Axes>"
            ],
            "image/png": "[encoded data removed]"
          },
          "metadata": {
            "needs_background": "light"
          }
        }
      ],
      "source": [
        "# Your solution goes here\n",
        "sns.displot(x='age',data=data)"
      ]
    },
    {
      "cell_type": "markdown",
      "metadata": {
        "id": "ztXiRH21GG2o"
      },
      "source": [
        "### 4.1 Boxplot age (Pandas boxplot())"
      ]
    },
    {
      "cell_type": "code",
      "execution_count": null,
      "metadata": {
        "colab": {
          "base_uri": "https://localhost:8080/",
          "height": 318
        },
        "id": "W39K59vnGG2p",
        "outputId": "88fa6b38-977b-4edd-8695-d9e4fce73efb"
      },
      "outputs": [
        {
          "output_type": "execute_result",
          "data": {
            "text/plain": [
              "<matplotlib.axes._subplots.AxesSubplot at 0x7f3a1a626940>"
            ]
          },
          "metadata": {},
          "execution_count": 17
        },
        {
          "output_type": "display_data",
          "data": {
            "text/plain": [
              "<Figure size 432x288 with 1 Axes>"
            ],
            "image/png": "[encoded data removed]"
          },
          "metadata": {
            "needs_background": "light"
          }
        }
      ],
      "source": [
        "# Your solution goes here\n",
        "data.boxplot(by='diet',column='age')"
      ]
    },
    {
      "cell_type": "markdown",
      "metadata": {
        "id": "q_sZd3KbGG2q"
      },
      "source": [
        "### 4.2 Boxplot age (Seaborn boxplot())"
      ]
    },
    {
      "cell_type": "code",
      "execution_count": null,
      "metadata": {
        "colab": {
          "base_uri": "https://localhost:8080/",
          "height": 298
        },
        "id": "mMs6wDQPGG2q",
        "outputId": "35e1b43d-5289-4794-f38e-21d54357249b"
      },
      "outputs": [
        {
          "output_type": "execute_result",
          "data": {
            "text/plain": [
              "<matplotlib.axes._subplots.AxesSubplot at 0x7f3a1a556c10>"
            ]
          },
          "metadata": {},
          "execution_count": 18
        },
        {
          "output_type": "display_data",
          "data": {
            "text/plain": [
              "<Figure size 432x288 with 1 Axes>"
            ],
            "image/png": "[encoded data removed]"
          },
          "metadata": {
            "needs_background": "light"
          }
        }
      ],
      "source": [
        "# Your solution goes here\n",
        "sns.boxplot(x='diet',y='age',data=data)"
      ]
    },
    {
      "cell_type": "markdown",
      "metadata": {
        "id": "vLT5XSUyGG2s"
      },
      "source": [
        "### 5.1 Plot average weight vs weeks by diet (Pandas plot() on groupby()) \n",
        "Hint: groupby week and diet, calculate mean, get the weight colum, unstack and plot  \n",
        "See here for more details:  \n",
        "https://scentellegher.github.io/programming/2017/07/15/pandas-groupby-multiple-columns-plot.html"
      ]
    },
    {
      "cell_type": "code",
      "execution_count": null,
      "metadata": {
        "colab": {
          "base_uri": "https://localhost:8080/",
          "height": 459
        },
        "id": "rz2GgSNAGG2t",
        "outputId": "68400620-fcf6-4c3d-f5e2-0a23465a753f"
      },
      "outputs": [
        {
          "output_type": "execute_result",
          "data": {
            "text/plain": [
              "<matplotlib.axes._subplots.AxesSubplot at 0x7f3a1a4deee0>"
            ]
          },
          "metadata": {},
          "execution_count": 19
        },
        {
          "output_type": "display_data",
          "data": {
            "text/plain": [
              "<Figure size 1080x504 with 1 Axes>"
            ],
            "image/png": "[encoded data removed]"
          },
          "metadata": {
            "needs_background": "light"
          }
        }
      ],
      "source": [
        "# Your solution goes here\n",
        "fig,ax= plt.subplots(figsize=(15,7))\n",
        "data.groupby(['week','diet']).mean()['weight'].unstack().plot(ax=ax)"
      ]
    },
    {
      "cell_type": "markdown",
      "metadata": {
        "id": "TdCfXmmMGG2u"
      },
      "source": [
        "### 5.2 Plot average weight vs weeks by diet (Seaborn pointplot()) \n",
        "Hint: set `ci=None` to not get error bars"
      ]
    },
    {
      "cell_type": "code",
      "execution_count": null,
      "metadata": {
        "colab": {
          "base_uri": "https://localhost:8080/",
          "height": 296
        },
        "id": "sEiXD-baGG2v",
        "outputId": "518c9f80-d29d-4232-e8a5-3618b3543751"
      },
      "outputs": [
        {
          "output_type": "execute_result",
          "data": {
            "text/plain": [
              "<matplotlib.axes._subplots.AxesSubplot at 0x7f3a1a44d700>"
            ]
          },
          "metadata": {},
          "execution_count": 20
        },
        {
          "output_type": "display_data",
          "data": {
            "text/plain": [
              "<Figure size 432x288 with 1 Axes>"
            ],
            "image/png": "[encoded data removed]"
          },
          "metadata": {
            "needs_background": "light"
          }
        }
      ],
      "source": [
        "# Your solution goes here\n",
        "sns.pointplot(x='week',y='weight',hue='diet',data=data,ci=None)"
      ]
    },
    {
      "cell_type": "markdown",
      "metadata": {
        "id": "QzjDnpqEGG2w"
      },
      "source": [
        "### 6.1 Plot average eggs vs weeks by diet (Pandas plot() on groupby()) \n",
        "Hint: It might be good to start y axis at 0"
      ]
    },
    {
      "cell_type": "code",
      "execution_count": null,
      "metadata": {
        "colab": {
          "base_uri": "https://localhost:8080/",
          "height": 459
        },
        "id": "M_xto9vPGG2y",
        "outputId": "506a7d55-fe3f-4dd3-e3fd-ad18d7e5cfdf"
      },
      "outputs": [
        {
          "output_type": "execute_result",
          "data": {
            "text/plain": [
              "<matplotlib.axes._subplots.AxesSubplot at 0x7f3a1a621c40>"
            ]
          },
          "metadata": {},
          "execution_count": 21
        },
        {
          "output_type": "display_data",
          "data": {
            "text/plain": [
              "<Figure size 1080x504 with 1 Axes>"
            ],
            "image/png": "[encoded data removed]"
          },
          "metadata": {
            "needs_background": "light"
          }
        }
      ],
      "source": [
        "# Your solution goes here\n",
        "fig,ax= plt.subplots(figsize=(15,7))\n",
        "data.groupby(['week','diet']).mean()['eggs'].unstack().plot(ax=ax,ylim=(0))"
      ]
    },
    {
      "cell_type": "markdown",
      "metadata": {
        "id": "zc8YXUiBGG2z"
      },
      "source": [
        "### 6.2 Plot average eggs vs weeks by diet (Seaborn pointplot()) \n",
        "Hint: It might be good to start y axis at 0"
      ]
    },
    {
      "cell_type": "code",
      "execution_count": null,
      "metadata": {
        "colab": {
          "base_uri": "https://localhost:8080/",
          "height": 296
        },
        "id": "labmDWV8GG20",
        "outputId": "0c2e499d-8ea7-4d82-bb6d-b45cd08028a6"
      },
      "outputs": [
        {
          "output_type": "execute_result",
          "data": {
            "text/plain": [
              "[(0.0, 4.745)]"
            ]
          },
          "metadata": {},
          "execution_count": 22
        },
        {
          "output_type": "display_data",
          "data": {
            "text/plain": [
              "<Figure size 432x288 with 1 Axes>"
            ],
            "image/png": "[encoded data removed]"
          },
          "metadata": {
            "needs_background": "light"
          }
        }
      ],
      "source": [
        "# Your solution goes here\n",
        "sns.pointplot(x='week',y='eggs',hue='diet',data=data,ci=None).set(ylim=(0))"
      ]
    },
    {
      "cell_type": "markdown",
      "metadata": {
        "id": "3QjSIwK9GG20"
      },
      "source": [
        "### 7. Average age by diet stats (Pandas groupby())"
      ]
    },
    {
      "cell_type": "code",
      "execution_count": null,
      "metadata": {
        "colab": {
          "base_uri": "https://localhost:8080/"
        },
        "id": "D7YlJIrTGG21",
        "outputId": "42c5b6b8-1edc-4238-97e2-09a18ff42b8f"
      },
      "outputs": [
        {
          "output_type": "execute_result",
          "data": {
            "text/plain": [
              "diet\n",
              "A    166.5\n",
              "B    187.9\n",
              "C    183.4\n",
              "Name: age, dtype: float64"
            ]
          },
          "metadata": {},
          "execution_count": 23
        }
      ],
      "source": [
        "# Your solution goes here\n",
        "data.groupby(by='diet').mean().age"
      ]
    },
    {
      "cell_type": "markdown",
      "metadata": {
        "id": "TpRWabNoGG22"
      },
      "source": [
        "### 8.1 Scatter plot eggs vs age by diet (Pandas plot.scatter())\n",
        "Hint: You need to loop over the diet 'A', 'B', 'C' and plot each separately in the same axes. Use `ax=plt.gca()` to get repeated plots to appear in the same axes. For more info, have a look at the following thread:  \n",
        "https://stackoverflow.com/questions/26139423/plot-different-color-for-different-categorical-levels-using-matplotlib\n"
      ]
    },
    {
      "cell_type": "code",
      "execution_count": null,
      "metadata": {
        "colab": {
          "base_uri": "https://localhost:8080/",
          "height": 279
        },
        "id": "hi5Gj2acGG23",
        "outputId": "9f49b253-7bf1-4828-9c97-95b7b45ced7b"
      },
      "outputs": [
        {
          "output_type": "display_data",
          "data": {
            "text/plain": [
              "<Figure size 432x288 with 1 Axes>"
            ],
            "image/png": "[encoded data removed]"
          },
          "metadata": {
            "needs_background": "light"
          }
        }
      ],
      "source": [
        "# Your solution goes here\n",
        "colors={'A':'tab:blue','B':'tab:orange','C':'tab:green'}\n",
        "fig,ax= plt.subplots()\n",
        "for key,group in data.groupby(by='diet'):\n",
        "    group.plot.scatter('age','eggs',c=colors[key],ax=ax,label=key)\n"
      ]
    },
    {
      "cell_type": "markdown",
      "metadata": {
        "id": "qkBMr3MnGG23"
      },
      "source": [
        "### 8.2 Scatter plot eggs vs age by diet (Seaborn scatterplot()) \n"
      ]
    },
    {
      "cell_type": "code",
      "execution_count": null,
      "metadata": {
        "colab": {
          "base_uri": "https://localhost:8080/",
          "height": 279
        },
        "id": "Z33HV80hGG24",
        "outputId": "212447bb-575e-4f50-a493-46c64c9906dc"
      },
      "outputs": [
        {
          "output_type": "display_data",
          "data": {
            "text/plain": [
              "<Figure size 432x288 with 1 Axes>"
            ],
            "image/png": "[encoded data removed]"
          },
          "metadata": {
            "needs_background": "light"
          }
        }
      ],
      "source": [
        "# Your solution goes here\n",
        "ax= sns.scatterplot(x='age',y='eggs',hue='diet',data=data)"
      ]
    },
    {
      "cell_type": "markdown",
      "metadata": {
        "id": "Db5SBzv4GG25"
      },
      "source": [
        "### 9.1 Boxplot age by diet (Pandas boxplot())"
      ]
    },
    {
      "cell_type": "code",
      "execution_count": null,
      "metadata": {
        "colab": {
          "base_uri": "https://localhost:8080/",
          "height": 318
        },
        "id": "8dPNRYGbGG25",
        "outputId": "93adcb40-f989-413c-ad63-7492937ad016"
      },
      "outputs": [
        {
          "output_type": "execute_result",
          "data": {
            "text/plain": [
              "<matplotlib.axes._subplots.AxesSubplot at 0x7f3a1a2aa4f0>"
            ]
          },
          "metadata": {},
          "execution_count": 26
        },
        {
          "output_type": "display_data",
          "data": {
            "text/plain": [
              "<Figure size 432x288 with 1 Axes>"
            ],
            "image/png": "[encoded data removed]"
          },
          "metadata": {
            "needs_background": "light"
          }
        }
      ],
      "source": [
        "# Your solution goes here\n",
        "data.boxplot(by='diet',column='age',grid=False)"
      ]
    },
    {
      "cell_type": "markdown",
      "metadata": {
        "id": "zRvwJijQGG26"
      },
      "source": [
        "### 9.2 Boxplot age by diet (Seaborn boxplot())"
      ]
    },
    {
      "cell_type": "code",
      "execution_count": null,
      "metadata": {
        "colab": {
          "base_uri": "https://localhost:8080/",
          "height": 298
        },
        "id": "fjfpuHI1GG27",
        "outputId": "6e11e674-c4f1-4215-f3da-b35892c4b3ad"
      },
      "outputs": [
        {
          "output_type": "execute_result",
          "data": {
            "text/plain": [
              "<matplotlib.axes._subplots.AxesSubplot at 0x7f3a1a6b2a30>"
            ]
          },
          "metadata": {},
          "execution_count": 27
        },
        {
          "output_type": "display_data",
          "data": {
            "text/plain": [
              "<Figure size 432x288 with 1 Axes>"
            ],
            "image/png": "[encoded data removed]"
          },
          "metadata": {
            "needs_background": "light"
          }
        }
      ],
      "source": [
        "# Your solution goes here\n",
        "sns.boxplot(x='diet',y='age',data=data)"
      ]
    },
    {
      "cell_type": "markdown",
      "metadata": {
        "id": "kZVgWN8rGG27"
      },
      "source": [
        "## B. Reflection\n",
        "After plotting with Pandas and Seaborn, in your opinion:\n",
        "\n",
        "\n",
        "1) What are the strengths/weaknesses of Pandas?\n",
        "\n",
        "Pandas is a robust Python framework for handling and analysing data.\n",
        "1. It is quick, strong, and adaptable.\n",
        "2. An extensive collection of commands to analyse and filter data according to user-specified criteria is one of panadas' greatest strengths.\n",
        "3. And one of the largest libraries accessible to process enormous datasets and increase the systems' processing speed.\n",
        "\n",
        "- Some of the shortcomings of Pandas.\n",
        "\n",
        "1. Since it differs significantly from Python in syntax, pandas' major shortcoming would be this.\n",
        "2. Poor documentation is another issue; without enough documentation, it would be challenging for new students to grasp the library, and this represents a genuine bottleneck because it could discourage many students from studying pandas.\n",
        "3. Although it may seem simple at first, understanding the library in depth can be challenging for a newcomer. The learning curve is steep. As a result, becoming accustomed to it takes a lot of study and practise.\n",
        "\n",
        "2) What are the strengths/weaknesses of Seaborn?\n",
        "\n",
        "A Python module for visualisation is called Seaborn.\n",
        "\n",
        "1. One of the most widely used and user-friendly Matplotlib-based Python modules for data analysis\n",
        "2. Developers can choose this library with ease because of its flawless interface with other Python libraries like Pandas, NumPy, etc.\n",
        "3. Uses fewer sytanx and a variety of graphic patterns.\n",
        "4. It makes difficult tasks incredibly simple. It is something that data analysis and visualisation both call for.\n",
        "\n",
        "- The following are a few of Seaborn's shortcomings:\n",
        "\n",
        "1. One of the most widely used and user-friendly Matplotlib-based Python modules for data analysis\n",
        "2. Developers can choose this library with ease because of its flawless interface with other Python libraries like Pandas, NumPy, etc.\n",
        "3. Uses fewer sytanx and a variety of graphic patterns.\n",
        "4. It makes difficult tasks incredibly simple. It is something that data analysis and visualisation both call for.\n",
        "\n",
        "3) When would you use Pandas and when would you use Seaborn?\n",
        "\n",
        "When we need to work with enormous datasets more quickly and effectively, we use Pandas. It is used for working with data, such as setting a specific value, updating it, or getting values from data structures.\n",
        "Large datasets that are stored in arrays, panadas, or other data structures are visualised using Seaborn. When working with enormous datasets, this data visualisation helps consumers and developers see things more clearly."
      ]
    },
    {
      "cell_type": "markdown",
      "metadata": {
        "id": "9ZboghORGG28"
      },
      "source": [
        "\n",
        "\n",
        "\n",
        "\n",
        "\n",
        "\n",
        "\n",
        "\n"
      ]
    }
  ],
  "metadata": {
    "@webio": {
      "lastCommId": null,
      "lastKernelId": null
    },
    "kernelspec": {
      "display_name": "Python 3",
      "language": "python",
      "name": "python3"
    },
    "language_info": {
      "codemirror_mode": {
        "name": "ipython",
        "version": 3
      },
      "file_extension": ".py",
      "mimetype": "text/x-python",
      "name": "python",
      "nbconvert_exporter": "python",
      "pygments_lexer": "ipython3",
      "version": "3.7.3"
    },
    "colab": {
      "provenance": []
    }
  },
  "nbformat": 4,
  "nbformat_minor": 0
}